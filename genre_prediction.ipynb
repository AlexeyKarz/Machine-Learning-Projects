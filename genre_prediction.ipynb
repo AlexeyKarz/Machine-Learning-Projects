{
 "cells": [
  {
   "cell_type": "code",
   "outputs": [],
   "source": [
    "import pandas as pd\n",
    "import numpy as np\n",
    "import matplotlib.pyplot as plt"
   ],
   "metadata": {
    "collapsed": false,
    "ExecuteTime": {
     "end_time": "2024-03-30T14:41:11.240927Z",
     "start_time": "2024-03-30T14:41:10.609214Z"
    }
   },
   "id": "bd04e6c2cc7467b2",
   "execution_count": 1
  },
  {
   "cell_type": "code",
   "outputs": [
    {
     "name": "stdout",
     "output_type": "stream",
     "text": [
      "Last run: 2024-03-30 16:41:11.242618\n"
     ]
    }
   ],
   "source": [
    "# time of the last run of the notebook\n",
    "from datetime import datetime\n",
    "print(f\"Last run: {datetime.now()}\")"
   ],
   "metadata": {
    "collapsed": false,
    "ExecuteTime": {
     "end_time": "2024-03-30T14:41:11.244567Z",
     "start_time": "2024-03-30T14:41:11.241895Z"
    }
   },
   "id": "cefd2ee40508e829",
   "execution_count": 2
  },
  {
   "cell_type": "markdown",
   "source": [
    "## Data exploration"
   ],
   "metadata": {
    "collapsed": false
   },
   "id": "6400c75b3e5e5c9b"
  },
  {
   "cell_type": "code",
   "execution_count": 3,
   "id": "initial_id",
   "metadata": {
    "collapsed": true,
    "ExecuteTime": {
     "end_time": "2024-03-30T14:41:11.975909Z",
     "start_time": "2024-03-30T14:41:11.245357Z"
    }
   },
   "outputs": [],
   "source": [
    "df = pd.read_csv('data/wiki_movie_plots.csv')"
   ]
  },
  {
   "cell_type": "code",
   "outputs": [
    {
     "data": {
      "text/plain": "   Release Year                             Title Origin/Ethnicity  \\\n0          1901            Kansas Saloon Smashers         American   \n1          1901     Love by the Light of the Moon         American   \n2          1901           The Martyred Presidents         American   \n3          1901  Terrible Teddy, the Grizzly King         American   \n4          1902            Jack and the Beanstalk         American   \n\n                             Director Cast    Genre  \\\n0                             Unknown  NaN  unknown   \n1                             Unknown  NaN  unknown   \n2                             Unknown  NaN  unknown   \n3                             Unknown  NaN  unknown   \n4  George S. Fleming, Edwin S. Porter  NaN  unknown   \n\n                                           Wiki Page  \\\n0  https://en.wikipedia.org/wiki/Kansas_Saloon_Sm...   \n1  https://en.wikipedia.org/wiki/Love_by_the_Ligh...   \n2  https://en.wikipedia.org/wiki/The_Martyred_Pre...   \n3  https://en.wikipedia.org/wiki/Terrible_Teddy,_...   \n4  https://en.wikipedia.org/wiki/Jack_and_the_Bea...   \n\n                                                Plot  \n0  A bartender is working at a saloon, serving dr...  \n1  The moon, painted with a smiling face hangs ov...  \n2  The film, just over a minute long, is composed...  \n3  Lasting just 61 seconds and consisting of two ...  \n4  The earliest known adaptation of the classic f...  ",
      "text/html": "<div>\n<style scoped>\n    .dataframe tbody tr th:only-of-type {\n        vertical-align: middle;\n    }\n\n    .dataframe tbody tr th {\n        vertical-align: top;\n    }\n\n    .dataframe thead th {\n        text-align: right;\n    }\n</style>\n<table border=\"1\" class=\"dataframe\">\n  <thead>\n    <tr style=\"text-align: right;\">\n      <th></th>\n      <th>Release Year</th>\n      <th>Title</th>\n      <th>Origin/Ethnicity</th>\n      <th>Director</th>\n      <th>Cast</th>\n      <th>Genre</th>\n      <th>Wiki Page</th>\n      <th>Plot</th>\n    </tr>\n  </thead>\n  <tbody>\n    <tr>\n      <th>0</th>\n      <td>1901</td>\n      <td>Kansas Saloon Smashers</td>\n      <td>American</td>\n      <td>Unknown</td>\n      <td>NaN</td>\n      <td>unknown</td>\n      <td>https://en.wikipedia.org/wiki/Kansas_Saloon_Sm...</td>\n      <td>A bartender is working at a saloon, serving dr...</td>\n    </tr>\n    <tr>\n      <th>1</th>\n      <td>1901</td>\n      <td>Love by the Light of the Moon</td>\n      <td>American</td>\n      <td>Unknown</td>\n      <td>NaN</td>\n      <td>unknown</td>\n      <td>https://en.wikipedia.org/wiki/Love_by_the_Ligh...</td>\n      <td>The moon, painted with a smiling face hangs ov...</td>\n    </tr>\n    <tr>\n      <th>2</th>\n      <td>1901</td>\n      <td>The Martyred Presidents</td>\n      <td>American</td>\n      <td>Unknown</td>\n      <td>NaN</td>\n      <td>unknown</td>\n      <td>https://en.wikipedia.org/wiki/The_Martyred_Pre...</td>\n      <td>The film, just over a minute long, is composed...</td>\n    </tr>\n    <tr>\n      <th>3</th>\n      <td>1901</td>\n      <td>Terrible Teddy, the Grizzly King</td>\n      <td>American</td>\n      <td>Unknown</td>\n      <td>NaN</td>\n      <td>unknown</td>\n      <td>https://en.wikipedia.org/wiki/Terrible_Teddy,_...</td>\n      <td>Lasting just 61 seconds and consisting of two ...</td>\n    </tr>\n    <tr>\n      <th>4</th>\n      <td>1902</td>\n      <td>Jack and the Beanstalk</td>\n      <td>American</td>\n      <td>George S. Fleming, Edwin S. Porter</td>\n      <td>NaN</td>\n      <td>unknown</td>\n      <td>https://en.wikipedia.org/wiki/Jack_and_the_Bea...</td>\n      <td>The earliest known adaptation of the classic f...</td>\n    </tr>\n  </tbody>\n</table>\n</div>"
     },
     "execution_count": 4,
     "metadata": {},
     "output_type": "execute_result"
    }
   ],
   "source": [
    "df.head()"
   ],
   "metadata": {
    "collapsed": false,
    "ExecuteTime": {
     "end_time": "2024-03-30T14:41:11.986014Z",
     "start_time": "2024-03-30T14:41:11.977423Z"
    }
   },
   "id": "6249d9bfb89fceb4",
   "execution_count": 4
  },
  {
   "cell_type": "markdown",
   "source": [
    "### Genre processing"
   ],
   "metadata": {
    "collapsed": false
   },
   "id": "79ad4dcc3997e09c"
  },
  {
   "cell_type": "code",
   "outputs": [
    {
     "data": {
      "text/plain": "Genre\nunknown                             6083\ndrama                               5964\ncomedy                              4379\nhorror                              1167\naction                              1098\n                                    ... \nfamily, crime, drama, romance          1\nfamily, crime, drama                   1\nanimation, sports, comedy, drama       1\nfamily, children's film                1\ndramedy, fantasy                       1\nName: count, Length: 2265, dtype: int64"
     },
     "execution_count": 5,
     "metadata": {},
     "output_type": "execute_result"
    }
   ],
   "source": [
    "df.value_counts('Genre')"
   ],
   "metadata": {
    "collapsed": false,
    "ExecuteTime": {
     "end_time": "2024-03-30T14:41:12.019542Z",
     "start_time": "2024-03-30T14:41:11.986795Z"
    }
   },
   "id": "496b45cf6b92b14a",
   "execution_count": 5
  },
  {
   "cell_type": "markdown",
   "source": [
    "There are 6083 movies with unknown genre. Since the goal of the model is to predict the genre of a movie, we will remove these movies from the dataset. Some of the movies have multiple genres, so it makes the problem a multi-label classification problem. To handle this, we will create a new column for each genre and set it to 1 if the movie has that genre and 0 otherwise."
   ],
   "metadata": {
    "collapsed": false
   },
   "id": "955cbf08e17ac5de"
  },
  {
   "cell_type": "code",
   "outputs": [],
   "source": [
    "df = df[df['Genre'] != 'unknown'] # remove movies with unknown genre"
   ],
   "metadata": {
    "collapsed": false,
    "ExecuteTime": {
     "end_time": "2024-03-30T14:41:12.026153Z",
     "start_time": "2024-03-30T14:41:12.020318Z"
    }
   },
   "id": "292dd6e16940043",
   "execution_count": 6
  },
  {
   "cell_type": "markdown",
   "source": [
    "Before splitting the genres I will remove special characters from the genre names."
   ],
   "metadata": {
    "collapsed": false
   },
   "id": "c3837a8397aae635"
  },
  {
   "cell_type": "code",
   "outputs": [],
   "source": [
    "# remove characters /-,&() from the genre names\n",
    "df['Genre'] = df['Genre'].str.replace('-', ' ')\n",
    "df['Genre'] = df['Genre'].str.replace('/', ' ')\n",
    "df['Genre'] = df['Genre'].str.replace(',', ' ')\n",
    "df['Genre'] = df['Genre'].str.replace('&', ' ')\n",
    "df['Genre'] = df['Genre'].str.replace('(', '')\n",
    "df['Genre'] = df['Genre'].str.replace(')', '')"
   ],
   "metadata": {
    "collapsed": false,
    "ExecuteTime": {
     "end_time": "2024-03-30T14:41:12.049710Z",
     "start_time": "2024-03-30T14:41:12.026843Z"
    }
   },
   "id": "714dc472e0a98229",
   "execution_count": 7
  },
  {
   "cell_type": "code",
   "outputs": [],
   "source": [
    "df['Genre'] = df['Genre'].apply(lambda x: x.split(' ')) # split the genres"
   ],
   "metadata": {
    "collapsed": false,
    "ExecuteTime": {
     "end_time": "2024-03-30T14:41:12.058289Z",
     "start_time": "2024-03-30T14:41:12.050663Z"
    }
   },
   "id": "435949920abd12d2",
   "execution_count": 8
  },
  {
   "cell_type": "code",
   "outputs": [
    {
     "data": {
      "text/plain": "Genre\n[drama]                                                    5964\n[comedy]                                                   4379\n[horror]                                                   1167\n[action]                                                   1098\n[thriller]                                                  966\n                                                           ... \n[drama, co, produced, with, the, national, film, board]       1\n[historical, costume, drama]                                  1\n[wartime, drama]                                              1\n[kung, fu, film]                                              1\n[horror, romantic, comedy]                                    1\nName: count, Length: 2135, dtype: int64"
     },
     "execution_count": 9,
     "metadata": {},
     "output_type": "execute_result"
    }
   ],
   "source": [
    "df['Genre'].value_counts()"
   ],
   "metadata": {
    "collapsed": false,
    "ExecuteTime": {
     "end_time": "2024-03-30T14:41:12.188277Z",
     "start_time": "2024-03-30T14:41:12.059327Z"
    }
   },
   "id": "72192dfe5c8872cd",
   "execution_count": 9
  },
  {
   "cell_type": "code",
   "outputs": [],
   "source": [
    " # one-hot encode the genres\n",
    "from sklearn.preprocessing import MultiLabelBinarizer\n",
    "\n",
    "mlb = MultiLabelBinarizer()\n",
    "df_oh = df.join(pd.DataFrame(mlb.fit_transform(df.pop('Genre')),\n",
    "                          columns=mlb.classes_,\n",
    "                          index=df.index))"
   ],
   "metadata": {
    "collapsed": false,
    "ExecuteTime": {
     "end_time": "2024-03-30T14:41:13.010862Z",
     "start_time": "2024-03-30T14:41:12.192050Z"
    }
   },
   "id": "1232b51037bde01d",
   "execution_count": 10
  },
  {
   "cell_type": "code",
   "outputs": [
    {
     "data": {
      "text/plain": "    Release Year                                              Title  \\\n6           1903                            The Great Train Robbery   \n7           1904                                    The Suburbanite   \n10          1906                           Dream of a Rarebit Fiend   \n11          1906  From Leadville to Aspen: A Hold-Up in the Rockies   \n12          1906                                Kathleen Mavourneen   \n\n   Origin/Ethnicity                                  Director Cast  \\\n6          American                           Edwin S. Porter  NaN   \n7          American                        Wallace McCutcheon  NaN   \n10         American    Wallace McCutcheon and Edwin S. Porter  NaN   \n11         American  Francis J. Marion and Wallace McCutcheon  NaN   \n12         American                           Edwin S. Porter  NaN   \n\n                                            Wiki Page  \\\n6   https://en.wikipedia.org/wiki/The_Great_Train_...   \n7       https://en.wikipedia.org/wiki/The_Suburbanite   \n10  https://en.wikipedia.org/wiki/Dream_of_a_Rareb...   \n11  https://en.wikipedia.org/wiki/From_Leadville_t...   \n12  https://en.wikipedia.org/wiki/Kathleen_Mavourn...   \n\n                                                 Plot     000  007  ...  yash  \\\n6   The film opens with two bandits breaking into ...  0    0    0  ...     0   \n7   The film is about a family who move to the sub...  0    0    0  ...     0   \n10  The Rarebit Fiend gorges on Welsh rarebit at a...  0    0    0  ...     0   \n11  The film features a train traveling through th...  0    0    0  ...     0   \n12  Irish villager Kathleen is a tenant of Captain...  0    0    0  ...     0   \n\n    years  yeh  yellow  yogesh  youth  yuen  zindagi  zombie  –  \n6       0    0       0       0      0     0        0       0  0  \n7       0    0       0       0      0     0        0       0  0  \n10      0    0       0       0      0     0        0       0  0  \n11      0    0       0       0      0     0        0       0  0  \n12      0    0       0       0      0     0        0       0  0  \n\n[5 rows x 709 columns]",
      "text/html": "<div>\n<style scoped>\n    .dataframe tbody tr th:only-of-type {\n        vertical-align: middle;\n    }\n\n    .dataframe tbody tr th {\n        vertical-align: top;\n    }\n\n    .dataframe thead th {\n        text-align: right;\n    }\n</style>\n<table border=\"1\" class=\"dataframe\">\n  <thead>\n    <tr style=\"text-align: right;\">\n      <th></th>\n      <th>Release Year</th>\n      <th>Title</th>\n      <th>Origin/Ethnicity</th>\n      <th>Director</th>\n      <th>Cast</th>\n      <th>Wiki Page</th>\n      <th>Plot</th>\n      <th></th>\n      <th>000</th>\n      <th>007</th>\n      <th>...</th>\n      <th>yash</th>\n      <th>years</th>\n      <th>yeh</th>\n      <th>yellow</th>\n      <th>yogesh</th>\n      <th>youth</th>\n      <th>yuen</th>\n      <th>zindagi</th>\n      <th>zombie</th>\n      <th>–</th>\n    </tr>\n  </thead>\n  <tbody>\n    <tr>\n      <th>6</th>\n      <td>1903</td>\n      <td>The Great Train Robbery</td>\n      <td>American</td>\n      <td>Edwin S. Porter</td>\n      <td>NaN</td>\n      <td>https://en.wikipedia.org/wiki/The_Great_Train_...</td>\n      <td>The film opens with two bandits breaking into ...</td>\n      <td>0</td>\n      <td>0</td>\n      <td>0</td>\n      <td>...</td>\n      <td>0</td>\n      <td>0</td>\n      <td>0</td>\n      <td>0</td>\n      <td>0</td>\n      <td>0</td>\n      <td>0</td>\n      <td>0</td>\n      <td>0</td>\n      <td>0</td>\n    </tr>\n    <tr>\n      <th>7</th>\n      <td>1904</td>\n      <td>The Suburbanite</td>\n      <td>American</td>\n      <td>Wallace McCutcheon</td>\n      <td>NaN</td>\n      <td>https://en.wikipedia.org/wiki/The_Suburbanite</td>\n      <td>The film is about a family who move to the sub...</td>\n      <td>0</td>\n      <td>0</td>\n      <td>0</td>\n      <td>...</td>\n      <td>0</td>\n      <td>0</td>\n      <td>0</td>\n      <td>0</td>\n      <td>0</td>\n      <td>0</td>\n      <td>0</td>\n      <td>0</td>\n      <td>0</td>\n      <td>0</td>\n    </tr>\n    <tr>\n      <th>10</th>\n      <td>1906</td>\n      <td>Dream of a Rarebit Fiend</td>\n      <td>American</td>\n      <td>Wallace McCutcheon and Edwin S. Porter</td>\n      <td>NaN</td>\n      <td>https://en.wikipedia.org/wiki/Dream_of_a_Rareb...</td>\n      <td>The Rarebit Fiend gorges on Welsh rarebit at a...</td>\n      <td>0</td>\n      <td>0</td>\n      <td>0</td>\n      <td>...</td>\n      <td>0</td>\n      <td>0</td>\n      <td>0</td>\n      <td>0</td>\n      <td>0</td>\n      <td>0</td>\n      <td>0</td>\n      <td>0</td>\n      <td>0</td>\n      <td>0</td>\n    </tr>\n    <tr>\n      <th>11</th>\n      <td>1906</td>\n      <td>From Leadville to Aspen: A Hold-Up in the Rockies</td>\n      <td>American</td>\n      <td>Francis J. Marion and Wallace McCutcheon</td>\n      <td>NaN</td>\n      <td>https://en.wikipedia.org/wiki/From_Leadville_t...</td>\n      <td>The film features a train traveling through th...</td>\n      <td>0</td>\n      <td>0</td>\n      <td>0</td>\n      <td>...</td>\n      <td>0</td>\n      <td>0</td>\n      <td>0</td>\n      <td>0</td>\n      <td>0</td>\n      <td>0</td>\n      <td>0</td>\n      <td>0</td>\n      <td>0</td>\n      <td>0</td>\n    </tr>\n    <tr>\n      <th>12</th>\n      <td>1906</td>\n      <td>Kathleen Mavourneen</td>\n      <td>American</td>\n      <td>Edwin S. Porter</td>\n      <td>NaN</td>\n      <td>https://en.wikipedia.org/wiki/Kathleen_Mavourn...</td>\n      <td>Irish villager Kathleen is a tenant of Captain...</td>\n      <td>0</td>\n      <td>0</td>\n      <td>0</td>\n      <td>...</td>\n      <td>0</td>\n      <td>0</td>\n      <td>0</td>\n      <td>0</td>\n      <td>0</td>\n      <td>0</td>\n      <td>0</td>\n      <td>0</td>\n      <td>0</td>\n      <td>0</td>\n    </tr>\n  </tbody>\n</table>\n<p>5 rows × 709 columns</p>\n</div>"
     },
     "execution_count": 11,
     "metadata": {},
     "output_type": "execute_result"
    }
   ],
   "source": [
    "df_oh.head()"
   ],
   "metadata": {
    "collapsed": false,
    "ExecuteTime": {
     "end_time": "2024-03-30T14:41:13.024238Z",
     "start_time": "2024-03-30T14:41:13.012529Z"
    }
   },
   "id": "1bbc1d562357abd7",
   "execution_count": 11
  },
  {
   "cell_type": "markdown",
   "source": [
    "Now I will delete the most unpopular genres, since they are not very useful for the model. I will delete the genres that have less than 100 movies."
   ],
   "metadata": {
    "collapsed": false
   },
   "id": "aa82329797ba2e3"
  },
  {
   "cell_type": "code",
   "outputs": [
    {
     "data": {
      "text/plain": "           3723\n000           1\n007           2\n1             1\n16 mm         1\n           ... \nyouth        19\nyuen          1\nzindagi       1\nzombie        5\n–             1\nLength: 702, dtype: int64"
     },
     "execution_count": 12,
     "metadata": {},
     "output_type": "execute_result"
    }
   ],
   "source": [
    "genre_count = df_oh.iloc[:, 7:].sum()\n",
    "genre_count"
   ],
   "metadata": {
    "collapsed": false,
    "ExecuteTime": {
     "end_time": "2024-03-30T14:41:13.086434Z",
     "start_time": "2024-03-30T14:41:13.027113Z"
    }
   },
   "id": "d3cb12ee24211aff",
   "execution_count": 12
  },
  {
   "cell_type": "markdown",
   "source": [
    "There is a column with white space, so I will remove it."
   ],
   "metadata": {
    "collapsed": false
   },
   "id": "4989c6afb225aeda"
  },
  {
   "cell_type": "code",
   "outputs": [],
   "source": [
    "df_oh = df_oh.drop(columns=[''])"
   ],
   "metadata": {
    "collapsed": false,
    "ExecuteTime": {
     "end_time": "2024-03-30T14:41:13.106660Z",
     "start_time": "2024-03-30T14:41:13.087206Z"
    }
   },
   "id": "744d560377a4a267",
   "execution_count": 13
  },
  {
   "cell_type": "markdown",
   "source": [
    "Now I will remove the unpopular genres, because they are not very useful for the model."
   ],
   "metadata": {
    "collapsed": false
   },
   "id": "f84cc3b9e35dda67"
  },
  {
   "cell_type": "code",
   "outputs": [],
   "source": [
    "unpopular = genre_count[genre_count < 100]\n",
    "df_oh_cleared = df_oh.drop(columns=unpopular.index)"
   ],
   "metadata": {
    "collapsed": false,
    "ExecuteTime": {
     "end_time": "2024-03-30T14:41:13.112946Z",
     "start_time": "2024-03-30T14:41:13.107607Z"
    }
   },
   "id": "74c96614d3412182",
   "execution_count": 14
  },
  {
   "cell_type": "code",
   "outputs": [],
   "source": [
    "# delete the movies that are left without genre\n",
    "df_oh_cleared = df_oh_cleared[df_oh_cleared.iloc[:, 7:].sum(axis=1) > 0]"
   ],
   "metadata": {
    "collapsed": false,
    "ExecuteTime": {
     "end_time": "2024-03-30T14:41:13.122603Z",
     "start_time": "2024-03-30T14:41:13.113920Z"
    }
   },
   "id": "53412108d777a5f5",
   "execution_count": 15
  },
  {
   "cell_type": "code",
   "outputs": [
    {
     "data": {
      "text/plain": "27802"
     },
     "execution_count": 16,
     "metadata": {},
     "output_type": "execute_result"
    }
   ],
   "source": [
    "len(df_oh_cleared)"
   ],
   "metadata": {
    "collapsed": false,
    "ExecuteTime": {
     "end_time": "2024-03-30T14:41:13.126429Z",
     "start_time": "2024-03-30T14:41:13.123575Z"
    }
   },
   "id": "5a4a65e24cb390f",
   "execution_count": 16
  },
  {
   "cell_type": "markdown",
   "source": [
    "I'm interested only in the plot of the movie and the genre, so I will remove the other columns."
   ],
   "metadata": {
    "collapsed": false
   },
   "id": "3317fed53b5e707a"
  },
  {
   "cell_type": "code",
   "outputs": [],
   "source": [
    "df_oh_cleared = df_oh_cleared[['Plot'] + list(df_oh_cleared.columns[7:])]"
   ],
   "metadata": {
    "collapsed": false,
    "ExecuteTime": {
     "end_time": "2024-03-30T14:41:13.132179Z",
     "start_time": "2024-03-30T14:41:13.127343Z"
    }
   },
   "id": "6dcad44c68a3db8c",
   "execution_count": 17
  },
  {
   "cell_type": "code",
   "outputs": [
    {
     "data": {
      "text/plain": "                                                 Plot  action  adventure  \\\n6   The film opens with two bandits breaking into ...       0          0   \n7   The film is about a family who move to the sub...       0          0   \n10  The Rarebit Fiend gorges on Welsh rarebit at a...       0          0   \n11  The film features a train traveling through th...       1          0   \n12  Irish villager Kathleen is a tenant of Captain...       0          0   \n\n    animated  animation  anime  arts  biography  comedy  crime  ...  science  \\\n6          0          0      0     0          0       0      0  ...        0   \n7          0          0      0     0          0       1      0  ...        0   \n10         0          0      0     0          0       0      0  ...        0   \n11         0          0      0     0          0       0      1  ...        0   \n12         0          0      0     0          0       0      0  ...        0   \n\n    short  social  sports  spy  suspense  thriller  war  western  world  \n6       0       0       0    0         0         0    0        1      0  \n7       0       0       0    0         0         0    0        0      0  \n10      1       0       0    0         0         0    0        0      0  \n11      1       0       0    0         0         0    0        1      0  \n12      1       0       0    0         0         0    0        0      0  \n\n[5 rows x 35 columns]",
      "text/html": "<div>\n<style scoped>\n    .dataframe tbody tr th:only-of-type {\n        vertical-align: middle;\n    }\n\n    .dataframe tbody tr th {\n        vertical-align: top;\n    }\n\n    .dataframe thead th {\n        text-align: right;\n    }\n</style>\n<table border=\"1\" class=\"dataframe\">\n  <thead>\n    <tr style=\"text-align: right;\">\n      <th></th>\n      <th>Plot</th>\n      <th>action</th>\n      <th>adventure</th>\n      <th>animated</th>\n      <th>animation</th>\n      <th>anime</th>\n      <th>arts</th>\n      <th>biography</th>\n      <th>comedy</th>\n      <th>crime</th>\n      <th>...</th>\n      <th>science</th>\n      <th>short</th>\n      <th>social</th>\n      <th>sports</th>\n      <th>spy</th>\n      <th>suspense</th>\n      <th>thriller</th>\n      <th>war</th>\n      <th>western</th>\n      <th>world</th>\n    </tr>\n  </thead>\n  <tbody>\n    <tr>\n      <th>6</th>\n      <td>The film opens with two bandits breaking into ...</td>\n      <td>0</td>\n      <td>0</td>\n      <td>0</td>\n      <td>0</td>\n      <td>0</td>\n      <td>0</td>\n      <td>0</td>\n      <td>0</td>\n      <td>0</td>\n      <td>...</td>\n      <td>0</td>\n      <td>0</td>\n      <td>0</td>\n      <td>0</td>\n      <td>0</td>\n      <td>0</td>\n      <td>0</td>\n      <td>0</td>\n      <td>1</td>\n      <td>0</td>\n    </tr>\n    <tr>\n      <th>7</th>\n      <td>The film is about a family who move to the sub...</td>\n      <td>0</td>\n      <td>0</td>\n      <td>0</td>\n      <td>0</td>\n      <td>0</td>\n      <td>0</td>\n      <td>0</td>\n      <td>1</td>\n      <td>0</td>\n      <td>...</td>\n      <td>0</td>\n      <td>0</td>\n      <td>0</td>\n      <td>0</td>\n      <td>0</td>\n      <td>0</td>\n      <td>0</td>\n      <td>0</td>\n      <td>0</td>\n      <td>0</td>\n    </tr>\n    <tr>\n      <th>10</th>\n      <td>The Rarebit Fiend gorges on Welsh rarebit at a...</td>\n      <td>0</td>\n      <td>0</td>\n      <td>0</td>\n      <td>0</td>\n      <td>0</td>\n      <td>0</td>\n      <td>0</td>\n      <td>0</td>\n      <td>0</td>\n      <td>...</td>\n      <td>0</td>\n      <td>1</td>\n      <td>0</td>\n      <td>0</td>\n      <td>0</td>\n      <td>0</td>\n      <td>0</td>\n      <td>0</td>\n      <td>0</td>\n      <td>0</td>\n    </tr>\n    <tr>\n      <th>11</th>\n      <td>The film features a train traveling through th...</td>\n      <td>1</td>\n      <td>0</td>\n      <td>0</td>\n      <td>0</td>\n      <td>0</td>\n      <td>0</td>\n      <td>0</td>\n      <td>0</td>\n      <td>1</td>\n      <td>...</td>\n      <td>0</td>\n      <td>1</td>\n      <td>0</td>\n      <td>0</td>\n      <td>0</td>\n      <td>0</td>\n      <td>0</td>\n      <td>0</td>\n      <td>1</td>\n      <td>0</td>\n    </tr>\n    <tr>\n      <th>12</th>\n      <td>Irish villager Kathleen is a tenant of Captain...</td>\n      <td>0</td>\n      <td>0</td>\n      <td>0</td>\n      <td>0</td>\n      <td>0</td>\n      <td>0</td>\n      <td>0</td>\n      <td>0</td>\n      <td>0</td>\n      <td>...</td>\n      <td>0</td>\n      <td>1</td>\n      <td>0</td>\n      <td>0</td>\n      <td>0</td>\n      <td>0</td>\n      <td>0</td>\n      <td>0</td>\n      <td>0</td>\n      <td>0</td>\n    </tr>\n  </tbody>\n</table>\n<p>5 rows × 35 columns</p>\n</div>"
     },
     "execution_count": 18,
     "metadata": {},
     "output_type": "execute_result"
    }
   ],
   "source": [
    "df_oh_cleared.head()"
   ],
   "metadata": {
    "collapsed": false,
    "ExecuteTime": {
     "end_time": "2024-03-30T14:41:13.138869Z",
     "start_time": "2024-03-30T14:41:13.132961Z"
    }
   },
   "id": "9ee10476fd897483",
   "execution_count": 18
  },
  {
   "cell_type": "markdown",
   "source": [
    "Add plot that visualizes the distribution of the genres."
   ],
   "metadata": {
    "collapsed": false
   },
   "id": "d1c0a9a3bf14a932"
  },
  {
   "cell_type": "code",
   "outputs": [
    {
     "data": {
      "text/plain": "drama         9397\ncomedy        7261\naction        2448\nromance       1939\nthriller      1779\ncrime         1606\nhorror        1585\nwestern        974\nmusical        947\nadventure      866\nromantic       680\nfamily         633\nwar            609\nscience        575\nfiction        563\nfilm           548\nfantasy        547\nmystery        481\nanimated       418\nfi             398\nsci            398\nnoir           358\nanimation      349\nbiography      306\nshort          241\nhistorical     224\nsocial         223\nsuspense       162\nanime          143\nspy            143\nsports         119\nmartial        110\narts           108\nworld          102\ndtype: int64"
     },
     "execution_count": 19,
     "metadata": {},
     "output_type": "execute_result"
    }
   ],
   "source": [
    "genre_count = df_oh_cleared.iloc[:, 1:].sum()\n",
    "genre_count = genre_count.sort_values(ascending=False)\n",
    "genre_count"
   ],
   "metadata": {
    "collapsed": false,
    "ExecuteTime": {
     "end_time": "2024-03-30T14:41:13.144708Z",
     "start_time": "2024-03-30T14:41:13.139890Z"
    }
   },
   "id": "a93ae74835f3bfe5",
   "execution_count": 19
  },
  {
   "cell_type": "code",
   "outputs": [
    {
     "data": {
      "text/plain": "<Figure size 1000x500 with 1 Axes>",
      "image/png": "[encoded data removed]"
     },
     "metadata": {},
     "output_type": "display_data"
    }
   ],
   "source": [
    "genre_count = df_oh_cleared.iloc[:, 1:].sum()\n",
    "genre_count = genre_count.sort_values(ascending=False)\n",
    "plt.figure(figsize=(10, 5))\n",
    "plt.bar(genre_count.index, genre_count.values)\n",
    "plt.xticks(rotation=70)\n",
    "plt.show()"
   ],
   "metadata": {
    "collapsed": false,
    "ExecuteTime": {
     "end_time": "2024-03-30T14:41:13.342727Z",
     "start_time": "2024-03-30T14:41:13.145443Z"
    }
   },
   "id": "ce29d9a1f028452e",
   "execution_count": 20
  },
  {
   "cell_type": "markdown",
   "source": [
    "I can see that while removing the special characters from the genre names, I accidentally separated the `sci-fi` genre and `martial arts` into two genres. I will fix this."
   ],
   "metadata": {
    "collapsed": false
   },
   "id": "3533d5043aee4822"
  },
  {
   "cell_type": "code",
   "outputs": [],
   "source": [
    "df_oh_cleared['sci'] = df_oh_cleared['sci'] | df_oh_cleared['fi']\n",
    "df_oh_cleared = df_oh_cleared.drop(columns=['fi'])\n",
    "df_oh_cleared = df_oh_cleared.rename(columns={'sci': 'sci-fi'}) # rename the column back to sci-fi"
   ],
   "metadata": {
    "collapsed": false,
    "ExecuteTime": {
     "end_time": "2024-03-30T14:41:13.359512Z",
     "start_time": "2024-03-30T14:41:13.345864Z"
    }
   },
   "id": "b206872df41306b9",
   "execution_count": 21
  },
  {
   "cell_type": "code",
   "outputs": [],
   "source": [
    "df_oh_cleared['martial'] = df_oh_cleared['martial'] | df_oh_cleared['arts']\n",
    "df_oh_cleared = df_oh_cleared.drop(columns=['arts'])\n",
    "df_oh_cleared = df_oh_cleared.rename(columns={'martial': 'martial arts'}) # rename the column back to martial arts"
   ],
   "metadata": {
    "collapsed": false,
    "ExecuteTime": {
     "end_time": "2024-03-30T14:41:13.376235Z",
     "start_time": "2024-03-30T14:41:13.362798Z"
    }
   },
   "id": "d7bcf4605e84226f",
   "execution_count": 22
  },
  {
   "cell_type": "markdown",
   "source": [
    "I also see that `science` and `fiction` genres has almost the same nuber of movies but are separated. I will merge them into 1, if the movie has both genres. Since `sci-fi` refers to `science fiction` I will add leave only `science fiction` genre."
   ],
   "metadata": {
    "collapsed": false
   },
   "id": "c6e43e568f4cc35c"
  },
  {
   "cell_type": "code",
   "outputs": [],
   "source": [
    "df_oh_cleared['science fiction'] = (df_oh_cleared['science'] & df_oh_cleared['fiction']) | df_oh_cleared['sci-fi']\n",
    "df_oh_cleared = df_oh_cleared.drop(columns=['science', 'fiction', 'sci-fi'])"
   ],
   "metadata": {
    "collapsed": false,
    "ExecuteTime": {
     "end_time": "2024-03-30T14:41:13.453217Z",
     "start_time": "2024-03-30T14:41:13.430857Z"
    }
   },
   "id": "32219e7929e74f99",
   "execution_count": 23
  },
  {
   "cell_type": "markdown",
   "source": [
    "I also want to delete such columns as `anime`, `animation`, `short`, `film`, `animated` because they are not very useful for the model, since they do not refer to the plot of the movie. "
   ],
   "metadata": {
    "collapsed": false
   },
   "id": "955bb84ab1dffc15"
  },
  {
   "cell_type": "code",
   "outputs": [],
   "source": [
    "df_oh_cleared = df_oh_cleared.drop(columns=['anime', 'animation', 'short', 'film', 'animated'])"
   ],
   "metadata": {
    "collapsed": false,
    "ExecuteTime": {
     "end_time": "2024-03-30T14:41:13.458744Z",
     "start_time": "2024-03-30T14:41:13.454597Z"
    }
   },
   "id": "898048d02d3da1a",
   "execution_count": 24
  },
  {
   "cell_type": "code",
   "outputs": [
    {
     "data": {
      "text/plain": "                                                 Plot  action  adventure  \\\n6   The film opens with two bandits breaking into ...       0          0   \n7   The film is about a family who move to the sub...       0          0   \n10  The Rarebit Fiend gorges on Welsh rarebit at a...       0          0   \n11  The film features a train traveling through th...       1          0   \n12  Irish villager Kathleen is a tenant of Captain...       0          0   \n\n    biography  comedy  crime  drama  family  fantasy  historical  ...  \\\n6           0       0      0      0       0        0           0  ...   \n7           0       1      0      0       0        0           0  ...   \n10          0       0      0      0       0        0           0  ...   \n11          0       0      1      0       0        0           0  ...   \n12          0       0      0      0       0        0           0  ...   \n\n    romantic  social  sports  spy  suspense  thriller  war  western  world  \\\n6          0       0       0    0         0         0    0        1      0   \n7          0       0       0    0         0         0    0        0      0   \n10         0       0       0    0         0         0    0        0      0   \n11         0       0       0    0         0         0    0        1      0   \n12         0       0       0    0         0         0    0        0      0   \n\n    science fiction  \n6                 0  \n7                 0  \n10                0  \n11                0  \n12                0  \n\n[5 rows x 26 columns]",
      "text/html": "<div>\n<style scoped>\n    .dataframe tbody tr th:only-of-type {\n        vertical-align: middle;\n    }\n\n    .dataframe tbody tr th {\n        vertical-align: top;\n    }\n\n    .dataframe thead th {\n        text-align: right;\n    }\n</style>\n<table border=\"1\" class=\"dataframe\">\n  <thead>\n    <tr style=\"text-align: right;\">\n      <th></th>\n      <th>Plot</th>\n      <th>action</th>\n      <th>adventure</th>\n      <th>biography</th>\n      <th>comedy</th>\n      <th>crime</th>\n      <th>drama</th>\n      <th>family</th>\n      <th>fantasy</th>\n      <th>historical</th>\n      <th>...</th>\n      <th>romantic</th>\n      <th>social</th>\n      <th>sports</th>\n      <th>spy</th>\n      <th>suspense</th>\n      <th>thriller</th>\n      <th>war</th>\n      <th>western</th>\n      <th>world</th>\n      <th>science fiction</th>\n    </tr>\n  </thead>\n  <tbody>\n    <tr>\n      <th>6</th>\n      <td>The film opens with two bandits breaking into ...</td>\n      <td>0</td>\n      <td>0</td>\n      <td>0</td>\n      <td>0</td>\n      <td>0</td>\n      <td>0</td>\n      <td>0</td>\n      <td>0</td>\n      <td>0</td>\n      <td>...</td>\n      <td>0</td>\n      <td>0</td>\n      <td>0</td>\n      <td>0</td>\n      <td>0</td>\n      <td>0</td>\n      <td>0</td>\n      <td>1</td>\n      <td>0</td>\n      <td>0</td>\n    </tr>\n    <tr>\n      <th>7</th>\n      <td>The film is about a family who move to the sub...</td>\n      <td>0</td>\n      <td>0</td>\n      <td>0</td>\n      <td>1</td>\n      <td>0</td>\n      <td>0</td>\n      <td>0</td>\n      <td>0</td>\n      <td>0</td>\n      <td>...</td>\n      <td>0</td>\n      <td>0</td>\n      <td>0</td>\n      <td>0</td>\n      <td>0</td>\n      <td>0</td>\n      <td>0</td>\n      <td>0</td>\n      <td>0</td>\n      <td>0</td>\n    </tr>\n    <tr>\n      <th>10</th>\n      <td>The Rarebit Fiend gorges on Welsh rarebit at a...</td>\n      <td>0</td>\n      <td>0</td>\n      <td>0</td>\n      <td>0</td>\n      <td>0</td>\n      <td>0</td>\n      <td>0</td>\n      <td>0</td>\n      <td>0</td>\n      <td>...</td>\n      <td>0</td>\n      <td>0</td>\n      <td>0</td>\n      <td>0</td>\n      <td>0</td>\n      <td>0</td>\n      <td>0</td>\n      <td>0</td>\n      <td>0</td>\n      <td>0</td>\n    </tr>\n    <tr>\n      <th>11</th>\n      <td>The film features a train traveling through th...</td>\n      <td>1</td>\n      <td>0</td>\n      <td>0</td>\n      <td>0</td>\n      <td>1</td>\n      <td>0</td>\n      <td>0</td>\n      <td>0</td>\n      <td>0</td>\n      <td>...</td>\n      <td>0</td>\n      <td>0</td>\n      <td>0</td>\n      <td>0</td>\n      <td>0</td>\n      <td>0</td>\n      <td>0</td>\n      <td>1</td>\n      <td>0</td>\n      <td>0</td>\n    </tr>\n    <tr>\n      <th>12</th>\n      <td>Irish villager Kathleen is a tenant of Captain...</td>\n      <td>0</td>\n      <td>0</td>\n      <td>0</td>\n      <td>0</td>\n      <td>0</td>\n      <td>0</td>\n      <td>0</td>\n      <td>0</td>\n      <td>0</td>\n      <td>...</td>\n      <td>0</td>\n      <td>0</td>\n      <td>0</td>\n      <td>0</td>\n      <td>0</td>\n      <td>0</td>\n      <td>0</td>\n      <td>0</td>\n      <td>0</td>\n      <td>0</td>\n    </tr>\n  </tbody>\n</table>\n<p>5 rows × 26 columns</p>\n</div>"
     },
     "execution_count": 25,
     "metadata": {},
     "output_type": "execute_result"
    }
   ],
   "source": [
    "df_oh_cleared.head()"
   ],
   "metadata": {
    "collapsed": false,
    "ExecuteTime": {
     "end_time": "2024-03-30T14:41:13.468692Z",
     "start_time": "2024-03-30T14:41:13.459918Z"
    }
   },
   "id": "158bf1388b2d3dc4",
   "execution_count": 25
  },
  {
   "cell_type": "markdown",
   "source": [
    "### Preprocessing the text"
   ],
   "metadata": {
    "collapsed": false
   },
   "id": "1501b383e93940df"
  },
  {
   "cell_type": "code",
   "outputs": [],
   "source": [
    "df_oh_cleared['Plot'] = df_oh_cleared['Plot'].str.lower() # convert to lowercase\n",
    "df_oh_cleared['Plot'] = df_oh_cleared['Plot'].str.replace(r'[^a-zA-Z\\s]', '') # remove special characters\n",
    "df_oh_cleared['Plot'] = df_oh_cleared['Plot'].str.replace(r'\\s+', ' ') # remove extra spaces"
   ],
   "metadata": {
    "collapsed": false,
    "ExecuteTime": {
     "end_time": "2024-03-30T14:41:13.657311Z",
     "start_time": "2024-03-30T14:41:13.470897Z"
    }
   },
   "id": "be3bc2f83e4be637",
   "execution_count": 26
  },
  {
   "cell_type": "code",
   "outputs": [
    {
     "data": {
      "text/plain": "                                                 Plot  action  adventure  \\\n6   the film opens with two bandits breaking into ...       0          0   \n7   the film is about a family who move to the sub...       0          0   \n10  the rarebit fiend gorges on welsh rarebit at a...       0          0   \n11  the film features a train traveling through th...       1          0   \n12  irish villager kathleen is a tenant of captain...       0          0   \n\n    biography  comedy  crime  drama  family  fantasy  historical  ...  \\\n6           0       0      0      0       0        0           0  ...   \n7           0       1      0      0       0        0           0  ...   \n10          0       0      0      0       0        0           0  ...   \n11          0       0      1      0       0        0           0  ...   \n12          0       0      0      0       0        0           0  ...   \n\n    romantic  social  sports  spy  suspense  thriller  war  western  world  \\\n6          0       0       0    0         0         0    0        1      0   \n7          0       0       0    0         0         0    0        0      0   \n10         0       0       0    0         0         0    0        0      0   \n11         0       0       0    0         0         0    0        1      0   \n12         0       0       0    0         0         0    0        0      0   \n\n    science fiction  \n6                 0  \n7                 0  \n10                0  \n11                0  \n12                0  \n\n[5 rows x 26 columns]",
      "text/html": "<div>\n<style scoped>\n    .dataframe tbody tr th:only-of-type {\n        vertical-align: middle;\n    }\n\n    .dataframe tbody tr th {\n        vertical-align: top;\n    }\n\n    .dataframe thead th {\n        text-align: right;\n    }\n</style>\n<table border=\"1\" class=\"dataframe\">\n  <thead>\n    <tr style=\"text-align: right;\">\n      <th></th>\n      <th>Plot</th>\n      <th>action</th>\n      <th>adventure</th>\n      <th>biography</th>\n      <th>comedy</th>\n      <th>crime</th>\n      <th>drama</th>\n      <th>family</th>\n      <th>fantasy</th>\n      <th>historical</th>\n      <th>...</th>\n      <th>romantic</th>\n      <th>social</th>\n      <th>sports</th>\n      <th>spy</th>\n      <th>suspense</th>\n      <th>thriller</th>\n      <th>war</th>\n      <th>western</th>\n      <th>world</th>\n      <th>science fiction</th>\n    </tr>\n  </thead>\n  <tbody>\n    <tr>\n      <th>6</th>\n      <td>the film opens with two bandits breaking into ...</td>\n      <td>0</td>\n      <td>0</td>\n      <td>0</td>\n      <td>0</td>\n      <td>0</td>\n      <td>0</td>\n      <td>0</td>\n      <td>0</td>\n      <td>0</td>\n      <td>...</td>\n      <td>0</td>\n      <td>0</td>\n      <td>0</td>\n      <td>0</td>\n      <td>0</td>\n      <td>0</td>\n      <td>0</td>\n      <td>1</td>\n      <td>0</td>\n      <td>0</td>\n    </tr>\n    <tr>\n      <th>7</th>\n      <td>the film is about a family who move to the sub...</td>\n      <td>0</td>\n      <td>0</td>\n      <td>0</td>\n      <td>1</td>\n      <td>0</td>\n      <td>0</td>\n      <td>0</td>\n      <td>0</td>\n      <td>0</td>\n      <td>...</td>\n      <td>0</td>\n      <td>0</td>\n      <td>0</td>\n      <td>0</td>\n      <td>0</td>\n      <td>0</td>\n      <td>0</td>\n      <td>0</td>\n      <td>0</td>\n      <td>0</td>\n    </tr>\n    <tr>\n      <th>10</th>\n      <td>the rarebit fiend gorges on welsh rarebit at a...</td>\n      <td>0</td>\n      <td>0</td>\n      <td>0</td>\n      <td>0</td>\n      <td>0</td>\n      <td>0</td>\n      <td>0</td>\n      <td>0</td>\n      <td>0</td>\n      <td>...</td>\n      <td>0</td>\n      <td>0</td>\n      <td>0</td>\n      <td>0</td>\n      <td>0</td>\n      <td>0</td>\n      <td>0</td>\n      <td>0</td>\n      <td>0</td>\n      <td>0</td>\n    </tr>\n    <tr>\n      <th>11</th>\n      <td>the film features a train traveling through th...</td>\n      <td>1</td>\n      <td>0</td>\n      <td>0</td>\n      <td>0</td>\n      <td>1</td>\n      <td>0</td>\n      <td>0</td>\n      <td>0</td>\n      <td>0</td>\n      <td>...</td>\n      <td>0</td>\n      <td>0</td>\n      <td>0</td>\n      <td>0</td>\n      <td>0</td>\n      <td>0</td>\n      <td>0</td>\n      <td>1</td>\n      <td>0</td>\n      <td>0</td>\n    </tr>\n    <tr>\n      <th>12</th>\n      <td>irish villager kathleen is a tenant of captain...</td>\n      <td>0</td>\n      <td>0</td>\n      <td>0</td>\n      <td>0</td>\n      <td>0</td>\n      <td>0</td>\n      <td>0</td>\n      <td>0</td>\n      <td>0</td>\n      <td>...</td>\n      <td>0</td>\n      <td>0</td>\n      <td>0</td>\n      <td>0</td>\n      <td>0</td>\n      <td>0</td>\n      <td>0</td>\n      <td>0</td>\n      <td>0</td>\n      <td>0</td>\n    </tr>\n  </tbody>\n</table>\n<p>5 rows × 26 columns</p>\n</div>"
     },
     "execution_count": 27,
     "metadata": {},
     "output_type": "execute_result"
    }
   ],
   "source": [
    "df_oh_cleared.head()"
   ],
   "metadata": {
    "collapsed": false,
    "ExecuteTime": {
     "end_time": "2024-03-30T14:41:13.664584Z",
     "start_time": "2024-03-30T14:41:13.658012Z"
    }
   },
   "id": "e419143cc9e337e8",
   "execution_count": 27
  },
  {
   "cell_type": "markdown",
   "source": [
    "### Train-test split"
   ],
   "metadata": {
    "collapsed": false
   },
   "id": "4ae34228e0c9231a"
  },
  {
   "cell_type": "markdown",
   "source": [
    "I will split the data into training and testing sets. I will use 80% of the data for training and 20% for testing."
   ],
   "metadata": {
    "collapsed": false
   },
   "id": "fcc9027d32d18b7f"
  },
  {
   "cell_type": "code",
   "outputs": [],
   "source": [
    "from sklearn.model_selection import train_test_split"
   ],
   "metadata": {
    "collapsed": false,
    "ExecuteTime": {
     "end_time": "2024-03-30T14:41:13.721102Z",
     "start_time": "2024-03-30T14:41:13.670174Z"
    }
   },
   "id": "39c29deff047059d",
   "execution_count": 28
  },
  {
   "cell_type": "code",
   "outputs": [],
   "source": [
    "X = df_oh_cleared['Plot']\n",
    "y = df_oh_cleared.iloc[:, 1:]"
   ],
   "metadata": {
    "collapsed": false,
    "ExecuteTime": {
     "end_time": "2024-03-30T14:41:13.724511Z",
     "start_time": "2024-03-30T14:41:13.721749Z"
    }
   },
   "id": "862904a07e94dcf0",
   "execution_count": 29
  },
  {
   "cell_type": "code",
   "outputs": [
    {
     "data": {
      "text/plain": "       action  adventure  biography  comedy  crime  drama  family  fantasy  \\\n6           0          0          0       0      0      0       0        0   \n7           0          0          0       1      0      0       0        0   \n10          0          0          0       0      0      0       0        0   \n11          1          0          0       0      1      0       0        0   \n12          0          0          0       0      0      0       0        0   \n...       ...        ...        ...     ...    ...    ...     ...      ...   \n34877       0          0          0       0      0      1       0        0   \n34882       0          0          0       1      0      0       0        0   \n34883       0          0          0       1      0      0       0        0   \n34884       0          0          0       1      0      0       0        0   \n34885       0          0          0       0      0      0       0        0   \n\n       historical  horror  ...  romantic  social  sports  spy  suspense  \\\n6               0       0  ...         0       0       0    0         0   \n7               0       0  ...         0       0       0    0         0   \n10              0       0  ...         0       0       0    0         0   \n11              0       0  ...         0       0       0    0         0   \n12              0       0  ...         0       0       0    0         0   \n...           ...     ...  ...       ...     ...     ...  ...       ...   \n34877           0       0  ...         0       0       0    0         0   \n34882           0       0  ...         0       0       0    0         0   \n34883           0       0  ...         0       0       0    0         0   \n34884           0       0  ...         1       0       0    0         0   \n34885           0       0  ...         1       0       0    0         0   \n\n       thriller  war  western  world  science fiction  \n6             0    0        1      0                0  \n7             0    0        0      0                0  \n10            0    0        0      0                0  \n11            0    0        1      0                0  \n12            0    0        0      0                0  \n...         ...  ...      ...    ...              ...  \n34877         0    0        0      0                0  \n34882         0    0        0      0                0  \n34883         0    0        0      0                0  \n34884         0    0        0      0                0  \n34885         0    0        0      0                0  \n\n[27802 rows x 25 columns]",
      "text/html": "<div>\n<style scoped>\n    .dataframe tbody tr th:only-of-type {\n        vertical-align: middle;\n    }\n\n    .dataframe tbody tr th {\n        vertical-align: top;\n    }\n\n    .dataframe thead th {\n        text-align: right;\n    }\n</style>\n<table border=\"1\" class=\"dataframe\">\n  <thead>\n    <tr style=\"text-align: right;\">\n      <th></th>\n      <th>action</th>\n      <th>adventure</th>\n      <th>biography</th>\n      <th>comedy</th>\n      <th>crime</th>\n      <th>drama</th>\n      <th>family</th>\n      <th>fantasy</th>\n      <th>historical</th>\n      <th>horror</th>\n      <th>...</th>\n      <th>romantic</th>\n      <th>social</th>\n      <th>sports</th>\n      <th>spy</th>\n      <th>suspense</th>\n      <th>thriller</th>\n      <th>war</th>\n      <th>western</th>\n      <th>world</th>\n      <th>science fiction</th>\n    </tr>\n  </thead>\n  <tbody>\n    <tr>\n      <th>6</th>\n      <td>0</td>\n      <td>0</td>\n      <td>0</td>\n      <td>0</td>\n      <td>0</td>\n      <td>0</td>\n      <td>0</td>\n      <td>0</td>\n      <td>0</td>\n      <td>0</td>\n      <td>...</td>\n      <td>0</td>\n      <td>0</td>\n      <td>0</td>\n      <td>0</td>\n      <td>0</td>\n      <td>0</td>\n      <td>0</td>\n      <td>1</td>\n      <td>0</td>\n      <td>0</td>\n    </tr>\n    <tr>\n      <th>7</th>\n      <td>0</td>\n      <td>0</td>\n      <td>0</td>\n      <td>1</td>\n      <td>0</td>\n      <td>0</td>\n      <td>0</td>\n      <td>0</td>\n      <td>0</td>\n      <td>0</td>\n      <td>...</td>\n      <td>0</td>\n      <td>0</td>\n      <td>0</td>\n      <td>0</td>\n      <td>0</td>\n      <td>0</td>\n      <td>0</td>\n      <td>0</td>\n      <td>0</td>\n      <td>0</td>\n    </tr>\n    <tr>\n      <th>10</th>\n      <td>0</td>\n      <td>0</td>\n      <td>0</td>\n      <td>0</td>\n      <td>0</td>\n      <td>0</td>\n      <td>0</td>\n      <td>0</td>\n      <td>0</td>\n      <td>0</td>\n      <td>...</td>\n      <td>0</td>\n      <td>0</td>\n      <td>0</td>\n      <td>0</td>\n      <td>0</td>\n      <td>0</td>\n      <td>0</td>\n      <td>0</td>\n      <td>0</td>\n      <td>0</td>\n    </tr>\n    <tr>\n      <th>11</th>\n      <td>1</td>\n      <td>0</td>\n      <td>0</td>\n      <td>0</td>\n      <td>1</td>\n      <td>0</td>\n      <td>0</td>\n      <td>0</td>\n      <td>0</td>\n      <td>0</td>\n      <td>...</td>\n      <td>0</td>\n      <td>0</td>\n      <td>0</td>\n      <td>0</td>\n      <td>0</td>\n      <td>0</td>\n      <td>0</td>\n      <td>1</td>\n      <td>0</td>\n      <td>0</td>\n    </tr>\n    <tr>\n      <th>12</th>\n      <td>0</td>\n      <td>0</td>\n      <td>0</td>\n      <td>0</td>\n      <td>0</td>\n      <td>0</td>\n      <td>0</td>\n      <td>0</td>\n      <td>0</td>\n      <td>0</td>\n      <td>...</td>\n      <td>0</td>\n      <td>0</td>\n      <td>0</td>\n      <td>0</td>\n      <td>0</td>\n      <td>0</td>\n      <td>0</td>\n      <td>0</td>\n      <td>0</td>\n      <td>0</td>\n    </tr>\n    <tr>\n      <th>...</th>\n      <td>...</td>\n      <td>...</td>\n      <td>...</td>\n      <td>...</td>\n      <td>...</td>\n      <td>...</td>\n      <td>...</td>\n      <td>...</td>\n      <td>...</td>\n      <td>...</td>\n      <td>...</td>\n      <td>...</td>\n      <td>...</td>\n      <td>...</td>\n      <td>...</td>\n      <td>...</td>\n      <td>...</td>\n      <td>...</td>\n      <td>...</td>\n      <td>...</td>\n      <td>...</td>\n    </tr>\n    <tr>\n      <th>34877</th>\n      <td>0</td>\n      <td>0</td>\n      <td>0</td>\n      <td>0</td>\n      <td>0</td>\n      <td>1</td>\n      <td>0</td>\n      <td>0</td>\n      <td>0</td>\n      <td>0</td>\n      <td>...</td>\n      <td>0</td>\n      <td>0</td>\n      <td>0</td>\n      <td>0</td>\n      <td>0</td>\n      <td>0</td>\n      <td>0</td>\n      <td>0</td>\n      <td>0</td>\n      <td>0</td>\n    </tr>\n    <tr>\n      <th>34882</th>\n      <td>0</td>\n      <td>0</td>\n      <td>0</td>\n      <td>1</td>\n      <td>0</td>\n      <td>0</td>\n      <td>0</td>\n      <td>0</td>\n      <td>0</td>\n      <td>0</td>\n      <td>...</td>\n      <td>0</td>\n      <td>0</td>\n      <td>0</td>\n      <td>0</td>\n      <td>0</td>\n      <td>0</td>\n      <td>0</td>\n      <td>0</td>\n      <td>0</td>\n      <td>0</td>\n    </tr>\n    <tr>\n      <th>34883</th>\n      <td>0</td>\n      <td>0</td>\n      <td>0</td>\n      <td>1</td>\n      <td>0</td>\n      <td>0</td>\n      <td>0</td>\n      <td>0</td>\n      <td>0</td>\n      <td>0</td>\n      <td>...</td>\n      <td>0</td>\n      <td>0</td>\n      <td>0</td>\n      <td>0</td>\n      <td>0</td>\n      <td>0</td>\n      <td>0</td>\n      <td>0</td>\n      <td>0</td>\n      <td>0</td>\n    </tr>\n    <tr>\n      <th>34884</th>\n      <td>0</td>\n      <td>0</td>\n      <td>0</td>\n      <td>1</td>\n      <td>0</td>\n      <td>0</td>\n      <td>0</td>\n      <td>0</td>\n      <td>0</td>\n      <td>0</td>\n      <td>...</td>\n      <td>1</td>\n      <td>0</td>\n      <td>0</td>\n      <td>0</td>\n      <td>0</td>\n      <td>0</td>\n      <td>0</td>\n      <td>0</td>\n      <td>0</td>\n      <td>0</td>\n    </tr>\n    <tr>\n      <th>34885</th>\n      <td>0</td>\n      <td>0</td>\n      <td>0</td>\n      <td>0</td>\n      <td>0</td>\n      <td>0</td>\n      <td>0</td>\n      <td>0</td>\n      <td>0</td>\n      <td>0</td>\n      <td>...</td>\n      <td>1</td>\n      <td>0</td>\n      <td>0</td>\n      <td>0</td>\n      <td>0</td>\n      <td>0</td>\n      <td>0</td>\n      <td>0</td>\n      <td>0</td>\n      <td>0</td>\n    </tr>\n  </tbody>\n</table>\n<p>27802 rows × 25 columns</p>\n</div>"
     },
     "execution_count": 30,
     "metadata": {},
     "output_type": "execute_result"
    }
   ],
   "source": [
    "y"
   ],
   "metadata": {
    "collapsed": false,
    "ExecuteTime": {
     "end_time": "2024-03-30T14:41:13.738897Z",
     "start_time": "2024-03-30T14:41:13.725726Z"
    }
   },
   "id": "f0510a0ede52088a",
   "execution_count": 30
  },
  {
   "cell_type": "code",
   "outputs": [],
   "source": [
    "X_train, X_test, y_train, y_test = train_test_split(X, y, test_size=0.2, random_state=42)"
   ],
   "metadata": {
    "collapsed": false,
    "ExecuteTime": {
     "end_time": "2024-03-30T14:41:13.745602Z",
     "start_time": "2024-03-30T14:41:13.739626Z"
    }
   },
   "id": "e891ab59f68a8efc",
   "execution_count": 31
  },
  {
   "cell_type": "code",
   "outputs": [
    {
     "data": {
      "text/plain": "((22241,), (5561,), (22241, 25), (5561, 25))"
     },
     "execution_count": 32,
     "metadata": {},
     "output_type": "execute_result"
    }
   ],
   "source": [
    "X_train.shape, X_test.shape, y_train.shape, y_test.shape"
   ],
   "metadata": {
    "collapsed": false,
    "ExecuteTime": {
     "end_time": "2024-03-30T14:41:13.749033Z",
     "start_time": "2024-03-30T14:41:13.746421Z"
    }
   },
   "id": "a03d18adc34e9ca0",
   "execution_count": 32
  },
  {
   "cell_type": "markdown",
   "source": [
    "## Modeling"
   ],
   "metadata": {
    "collapsed": false
   },
   "id": "4f0ffeb3226c91c5"
  },
  {
   "cell_type": "code",
   "outputs": [],
   "source": [
    "from sklearn.feature_extraction.text import TfidfVectorizer\n",
    "from sklearn.pipeline import Pipeline\n",
    "from sklearn.linear_model import LogisticRegression\n",
    "from sklearn.metrics import accuracy_score, classification_report\n",
    "from sklearn.multiclass import OneVsRestClassifier"
   ],
   "metadata": {
    "collapsed": false,
    "ExecuteTime": {
     "end_time": "2024-03-30T14:41:13.800484Z",
     "start_time": "2024-03-30T14:41:13.749768Z"
    }
   },
   "id": "9f918c97012f4c8a",
   "execution_count": 33
  },
  {
   "cell_type": "markdown",
   "source": [
    "### OneVsRestClassifier with logistic regression\n",
    "First I will try to use logistic regression with tf-idf vectorizer to create classifiers for each class. I will use the top 10000 features."
   ],
   "metadata": {
    "collapsed": false
   },
   "id": "553a54dd789092a8"
  },
  {
   "cell_type": "code",
   "outputs": [],
   "source": [
    "tfidf = TfidfVectorizer(max_features=10000)\n",
    "clf = OneVsRestClassifier(LogisticRegression(max_iter=1000))\n",
    "model_0 = Pipeline([\n",
    "    ('tfidf', tfidf),\n",
    "    ('clf', clf)\n",
    "])"
   ],
   "metadata": {
    "collapsed": false,
    "ExecuteTime": {
     "end_time": "2024-03-30T14:41:13.803143Z",
     "start_time": "2024-03-30T14:41:13.801327Z"
    }
   },
   "id": "86f81e4dc2400dec",
   "execution_count": 34
  },
  {
   "cell_type": "code",
   "outputs": [
    {
     "data": {
      "text/plain": "Pipeline(steps=[('tfidf', TfidfVectorizer(max_features=10000)),\n                ('clf',\n                 OneVsRestClassifier(estimator=LogisticRegression(max_iter=1000)))])",
      "text/html": "<style>#sk-container-id-1 {\n  /* Definition of color scheme common for light and dark mode */\n  --sklearn-color-text: black;\n  --sklearn-color-line: gray;\n  /* Definition of color scheme for unfitted estimators */\n  --sklearn-color-unfitted-level-0: #fff5e6;\n  --sklearn-color-unfitted-level-1: #f6e4d2;\n  --sklearn-color-unfitted-level-2: #ffe0b3;\n  --sklearn-color-unfitted-level-3: chocolate;\n  /* Definition of color scheme for fitted estimators */\n  --sklearn-color-fitted-level-0: #f0f8ff;\n  --sklearn-color-fitted-level-1: #d4ebff;\n  --sklearn-color-fitted-level-2: #b3dbfd;\n  --sklearn-color-fitted-level-3: cornflowerblue;\n\n  /* Specific color for light theme */\n  --sklearn-color-text-on-default-background: var(--sg-text-color, var(--theme-code-foreground, var(--jp-content-font-color1, black)));\n  --sklearn-color-background: var(--sg-background-color, var(--theme-background, var(--jp-layout-color0, white)));\n  --sklearn-color-border-box: var(--sg-text-color, var(--theme-code-foreground, var(--jp-content-font-color1, black)));\n  --sklearn-color-icon: #696969;\n\n  @media (prefers-color-scheme: dark) {\n    /* Redefinition of color scheme for dark theme */\n    --sklearn-color-text-on-default-background: var(--sg-text-color, var(--theme-code-foreground, var(--jp-content-font-color1, white)));\n    --sklearn-color-background: var(--sg-background-color, var(--theme-background, var(--jp-layout-color0, #111)));\n    --sklearn-color-border-box: var(--sg-text-color, var(--theme-code-foreground, var(--jp-content-font-color1, white)));\n    --sklearn-color-icon: #878787;\n  }\n}\n\n#sk-container-id-1 {\n  color: var(--sklearn-color-text);\n}\n\n#sk-container-id-1 pre {\n  padding: 0;\n}\n\n#sk-container-id-1 input.sk-hidden--visually {\n  border: 0;\n  clip: rect(1px 1px 1px 1px);\n  clip: rect(1px, 1px, 1px, 1px);\n  height: 1px;\n  margin: -1px;\n  overflow: hidden;\n  padding: 0;\n  position: absolute;\n  width: 1px;\n}\n\n#sk-container-id-1 div.sk-dashed-wrapped {\n  border: 1px dashed var(--sklearn-color-line);\n  margin: 0 0.4em 0.5em 0.4em;\n  box-sizing: border-box;\n  padding-bottom: 0.4em;\n  background-color: var(--sklearn-color-background);\n}\n\n#sk-container-id-1 div.sk-container {\n  /* jupyter's `normalize.less` sets `[hidden] { display: none; }`\n     but bootstrap.min.css set `[hidden] { display: none !important; }`\n     so we also need the `!important` here to be able to override the\n     default hidden behavior on the sphinx rendered scikit-learn.org.\n     See: https://github.com/scikit-learn/scikit-learn/issues/21755 */\n  display: inline-block !important;\n  position: relative;\n}\n\n#sk-container-id-1 div.sk-text-repr-fallback {\n  display: none;\n}\n\ndiv.sk-parallel-item,\ndiv.sk-serial,\ndiv.sk-item {\n  /* draw centered vertical line to link estimators */\n  background-image: linear-gradient(var(--sklearn-color-text-on-default-background), var(--sklearn-color-text-on-default-background));\n  background-size: 2px 100%;\n  background-repeat: no-repeat;\n  background-position: center center;\n}\n\n/* Parallel-specific style estimator block */\n\n#sk-container-id-1 div.sk-parallel-item::after {\n  content: \"\";\n  width: 100%;\n  border-bottom: 2px solid var(--sklearn-color-text-on-default-background);\n  flex-grow: 1;\n}\n\n#sk-container-id-1 div.sk-parallel {\n  display: flex;\n  align-items: stretch;\n  justify-content: center;\n  background-color: var(--sklearn-color-background);\n  position: relative;\n}\n\n#sk-container-id-1 div.sk-parallel-item {\n  display: flex;\n  flex-direction: column;\n}\n\n#sk-container-id-1 div.sk-parallel-item:first-child::after {\n  align-self: flex-end;\n  width: 50%;\n}\n\n#sk-container-id-1 div.sk-parallel-item:last-child::after {\n  align-self: flex-start;\n  width: 50%;\n}\n\n#sk-container-id-1 div.sk-parallel-item:only-child::after {\n  width: 0;\n}\n\n/* Serial-specific style estimator block */\n\n#sk-container-id-1 div.sk-serial {\n  display: flex;\n  flex-direction: column;\n  align-items: center;\n  background-color: var(--sklearn-color-background);\n  padding-right: 1em;\n  padding-left: 1em;\n}\n\n\n/* Toggleable style: style used for estimator/Pipeline/ColumnTransformer box that is\nclickable and can be expanded/collapsed.\n- Pipeline and ColumnTransformer use this feature and define the default style\n- Estimators will overwrite some part of the style using the `sk-estimator` class\n*/\n\n/* Pipeline and ColumnTransformer style (default) */\n\n#sk-container-id-1 div.sk-toggleable {\n  /* Default theme specific background. It is overwritten whether we have a\n  specific estimator or a Pipeline/ColumnTransformer */\n  background-color: var(--sklearn-color-background);\n}\n\n/* Toggleable label */\n#sk-container-id-1 label.sk-toggleable__label {\n  cursor: pointer;\n  display: block;\n  width: 100%;\n  margin-bottom: 0;\n  padding: 0.5em;\n  box-sizing: border-box;\n  text-align: center;\n}\n\n#sk-container-id-1 label.sk-toggleable__label-arrow:before {\n  /* Arrow on the left of the label */\n  content: \"▸\";\n  float: left;\n  margin-right: 0.25em;\n  color: var(--sklearn-color-icon);\n}\n\n#sk-container-id-1 label.sk-toggleable__label-arrow:hover:before {\n  color: var(--sklearn-color-text);\n}\n\n/* Toggleable content - dropdown */\n\n#sk-container-id-1 div.sk-toggleable__content {\n  max-height: 0;\n  max-width: 0;\n  overflow: hidden;\n  text-align: left;\n  /* unfitted */\n  background-color: var(--sklearn-color-unfitted-level-0);\n}\n\n#sk-container-id-1 div.sk-toggleable__content.fitted {\n  /* fitted */\n  background-color: var(--sklearn-color-fitted-level-0);\n}\n\n#sk-container-id-1 div.sk-toggleable__content pre {\n  margin: 0.2em;\n  border-radius: 0.25em;\n  color: var(--sklearn-color-text);\n  /* unfitted */\n  background-color: var(--sklearn-color-unfitted-level-0);\n}\n\n#sk-container-id-1 div.sk-toggleable__content.fitted pre {\n  /* unfitted */\n  background-color: var(--sklearn-color-fitted-level-0);\n}\n\n#sk-container-id-1 input.sk-toggleable__control:checked~div.sk-toggleable__content {\n  /* Expand drop-down */\n  max-height: 200px;\n  max-width: 100%;\n  overflow: auto;\n}\n\n#sk-container-id-1 input.sk-toggleable__control:checked~label.sk-toggleable__label-arrow:before {\n  content: \"▾\";\n}\n\n/* Pipeline/ColumnTransformer-specific style */\n\n#sk-container-id-1 div.sk-label input.sk-toggleable__control:checked~label.sk-toggleable__label {\n  color: var(--sklearn-color-text);\n  background-color: var(--sklearn-color-unfitted-level-2);\n}\n\n#sk-container-id-1 div.sk-label.fitted input.sk-toggleable__control:checked~label.sk-toggleable__label {\n  background-color: var(--sklearn-color-fitted-level-2);\n}\n\n/* Estimator-specific style */\n\n/* Colorize estimator box */\n#sk-container-id-1 div.sk-estimator input.sk-toggleable__control:checked~label.sk-toggleable__label {\n  /* unfitted */\n  background-color: var(--sklearn-color-unfitted-level-2);\n}\n\n#sk-container-id-1 div.sk-estimator.fitted input.sk-toggleable__control:checked~label.sk-toggleable__label {\n  /* fitted */\n  background-color: var(--sklearn-color-fitted-level-2);\n}\n\n#sk-container-id-1 div.sk-label label.sk-toggleable__label,\n#sk-container-id-1 div.sk-label label {\n  /* The background is the default theme color */\n  color: var(--sklearn-color-text-on-default-background);\n}\n\n/* On hover, darken the color of the background */\n#sk-container-id-1 div.sk-label:hover label.sk-toggleable__label {\n  color: var(--sklearn-color-text);\n  background-color: var(--sklearn-color-unfitted-level-2);\n}\n\n/* Label box, darken color on hover, fitted */\n#sk-container-id-1 div.sk-label.fitted:hover label.sk-toggleable__label.fitted {\n  color: var(--sklearn-color-text);\n  background-color: var(--sklearn-color-fitted-level-2);\n}\n\n/* Estimator label */\n\n#sk-container-id-1 div.sk-label label {\n  font-family: monospace;\n  font-weight: bold;\n  display: inline-block;\n  line-height: 1.2em;\n}\n\n#sk-container-id-1 div.sk-label-container {\n  text-align: center;\n}\n\n/* Estimator-specific */\n#sk-container-id-1 div.sk-estimator {\n  font-family: monospace;\n  border: 1px dotted var(--sklearn-color-border-box);\n  border-radius: 0.25em;\n  box-sizing: border-box;\n  margin-bottom: 0.5em;\n  /* unfitted */\n  background-color: var(--sklearn-color-unfitted-level-0);\n}\n\n#sk-container-id-1 div.sk-estimator.fitted {\n  /* fitted */\n  background-color: var(--sklearn-color-fitted-level-0);\n}\n\n/* on hover */\n#sk-container-id-1 div.sk-estimator:hover {\n  /* unfitted */\n  background-color: var(--sklearn-color-unfitted-level-2);\n}\n\n#sk-container-id-1 div.sk-estimator.fitted:hover {\n  /* fitted */\n  background-color: var(--sklearn-color-fitted-level-2);\n}\n\n/* Specification for estimator info (e.g. \"i\" and \"?\") */\n\n/* Common style for \"i\" and \"?\" */\n\n.sk-estimator-doc-link,\na:link.sk-estimator-doc-link,\na:visited.sk-estimator-doc-link {\n  float: right;\n  font-size: smaller;\n  line-height: 1em;\n  font-family: monospace;\n  background-color: var(--sklearn-color-background);\n  border-radius: 1em;\n  height: 1em;\n  width: 1em;\n  text-decoration: none !important;\n  margin-left: 1ex;\n  /* unfitted */\n  border: var(--sklearn-color-unfitted-level-1) 1pt solid;\n  color: var(--sklearn-color-unfitted-level-1);\n}\n\n.sk-estimator-doc-link.fitted,\na:link.sk-estimator-doc-link.fitted,\na:visited.sk-estimator-doc-link.fitted {\n  /* fitted */\n  border: var(--sklearn-color-fitted-level-1) 1pt solid;\n  color: var(--sklearn-color-fitted-level-1);\n}\n\n/* On hover */\ndiv.sk-estimator:hover .sk-estimator-doc-link:hover,\n.sk-estimator-doc-link:hover,\ndiv.sk-label-container:hover .sk-estimator-doc-link:hover,\n.sk-estimator-doc-link:hover {\n  /* unfitted */\n  background-color: var(--sklearn-color-unfitted-level-3);\n  color: var(--sklearn-color-background);\n  text-decoration: none;\n}\n\ndiv.sk-estimator.fitted:hover .sk-estimator-doc-link.fitted:hover,\n.sk-estimator-doc-link.fitted:hover,\ndiv.sk-label-container:hover .sk-estimator-doc-link.fitted:hover,\n.sk-estimator-doc-link.fitted:hover {\n  /* fitted */\n  background-color: var(--sklearn-color-fitted-level-3);\n  color: var(--sklearn-color-background);\n  text-decoration: none;\n}\n\n/* Span, style for the box shown on hovering the info icon */\n.sk-estimator-doc-link span {\n  display: none;\n  z-index: 9999;\n  position: relative;\n  font-weight: normal;\n  right: .2ex;\n  padding: .5ex;\n  margin: .5ex;\n  width: min-content;\n  min-width: 20ex;\n  max-width: 50ex;\n  color: var(--sklearn-color-text);\n  box-shadow: 2pt 2pt 4pt #999;\n  /* unfitted */\n  background: var(--sklearn-color-unfitted-level-0);\n  border: .5pt solid var(--sklearn-color-unfitted-level-3);\n}\n\n.sk-estimator-doc-link.fitted span {\n  /* fitted */\n  background: var(--sklearn-color-fitted-level-0);\n  border: var(--sklearn-color-fitted-level-3);\n}\n\n.sk-estimator-doc-link:hover span {\n  display: block;\n}\n\n/* \"?\"-specific style due to the `<a>` HTML tag */\n\n#sk-container-id-1 a.estimator_doc_link {\n  float: right;\n  font-size: 1rem;\n  line-height: 1em;\n  font-family: monospace;\n  background-color: var(--sklearn-color-background);\n  border-radius: 1rem;\n  height: 1rem;\n  width: 1rem;\n  text-decoration: none;\n  /* unfitted */\n  color: var(--sklearn-color-unfitted-level-1);\n  border: var(--sklearn-color-unfitted-level-1) 1pt solid;\n}\n\n#sk-container-id-1 a.estimator_doc_link.fitted {\n  /* fitted */\n  border: var(--sklearn-color-fitted-level-1) 1pt solid;\n  color: var(--sklearn-color-fitted-level-1);\n}\n\n/* On hover */\n#sk-container-id-1 a.estimator_doc_link:hover {\n  /* unfitted */\n  background-color: var(--sklearn-color-unfitted-level-3);\n  color: var(--sklearn-color-background);\n  text-decoration: none;\n}\n\n#sk-container-id-1 a.estimator_doc_link.fitted:hover {\n  /* fitted */\n  background-color: var(--sklearn-color-fitted-level-3);\n}\n</style><div id=\"sk-container-id-1\" class=\"sk-top-container\"><div class=\"sk-text-repr-fallback\"><pre>Pipeline(steps=[(&#x27;tfidf&#x27;, TfidfVectorizer(max_features=10000)),\n                (&#x27;clf&#x27;,\n                 OneVsRestClassifier(estimator=LogisticRegression(max_iter=1000)))])</pre><b>In a Jupyter environment, please rerun this cell to show the HTML representation or trust the notebook. <br />On GitHub, the HTML representation is unable to render, please try loading this page with nbviewer.org.</b></div><div class=\"sk-container\" hidden><div class=\"sk-item sk-dashed-wrapped\"><div class=\"sk-label-container\"><div class=\"sk-label fitted sk-toggleable\"><input class=\"sk-toggleable__control sk-hidden--visually\" id=\"sk-estimator-id-1\" type=\"checkbox\" ><label for=\"sk-estimator-id-1\" class=\"sk-toggleable__label fitted sk-toggleable__label-arrow fitted\">&nbsp;&nbsp;Pipeline<a class=\"sk-estimator-doc-link fitted\" rel=\"noreferrer\" target=\"_blank\" href=\"https://scikit-learn.org/1.4/modules/generated/sklearn.pipeline.Pipeline.html\">?<span>Documentation for Pipeline</span></a><span class=\"sk-estimator-doc-link fitted\">i<span>Fitted</span></span></label><div class=\"sk-toggleable__content fitted\"><pre>Pipeline(steps=[(&#x27;tfidf&#x27;, TfidfVectorizer(max_features=10000)),\n                (&#x27;clf&#x27;,\n                 OneVsRestClassifier(estimator=LogisticRegression(max_iter=1000)))])</pre></div> </div></div><div class=\"sk-serial\"><div class=\"sk-item\"><div class=\"sk-estimator fitted sk-toggleable\"><input class=\"sk-toggleable__control sk-hidden--visually\" id=\"sk-estimator-id-2\" type=\"checkbox\" ><label for=\"sk-estimator-id-2\" class=\"sk-toggleable__label fitted sk-toggleable__label-arrow fitted\">&nbsp;TfidfVectorizer<a class=\"sk-estimator-doc-link fitted\" rel=\"noreferrer\" target=\"_blank\" href=\"https://scikit-learn.org/1.4/modules/generated/sklearn.feature_extraction.text.TfidfVectorizer.html\">?<span>Documentation for TfidfVectorizer</span></a></label><div class=\"sk-toggleable__content fitted\"><pre>TfidfVectorizer(max_features=10000)</pre></div> </div></div><div class=\"sk-item sk-dashed-wrapped\"><div class=\"sk-label-container\"><div class=\"sk-label fitted sk-toggleable\"><input class=\"sk-toggleable__control sk-hidden--visually\" id=\"sk-estimator-id-3\" type=\"checkbox\" ><label for=\"sk-estimator-id-3\" class=\"sk-toggleable__label fitted sk-toggleable__label-arrow fitted\">&nbsp;clf: OneVsRestClassifier<a class=\"sk-estimator-doc-link fitted\" rel=\"noreferrer\" target=\"_blank\" href=\"https://scikit-learn.org/1.4/modules/generated/sklearn.multiclass.OneVsRestClassifier.html\">?<span>Documentation for clf: OneVsRestClassifier</span></a></label><div class=\"sk-toggleable__content fitted\"><pre>OneVsRestClassifier(estimator=LogisticRegression(max_iter=1000))</pre></div> </div></div><div class=\"sk-parallel\"><div class=\"sk-parallel-item\"><div class=\"sk-item\"><div class=\"sk-label-container\"><div class=\"sk-label fitted sk-toggleable\"><input class=\"sk-toggleable__control sk-hidden--visually\" id=\"sk-estimator-id-4\" type=\"checkbox\" ><label for=\"sk-estimator-id-4\" class=\"sk-toggleable__label fitted sk-toggleable__label-arrow fitted\">estimator: LogisticRegression</label><div class=\"sk-toggleable__content fitted\"><pre>LogisticRegression(max_iter=1000)</pre></div> </div></div><div class=\"sk-serial\"><div class=\"sk-item\"><div class=\"sk-estimator fitted sk-toggleable\"><input class=\"sk-toggleable__control sk-hidden--visually\" id=\"sk-estimator-id-5\" type=\"checkbox\" ><label for=\"sk-estimator-id-5\" class=\"sk-toggleable__label fitted sk-toggleable__label-arrow fitted\">&nbsp;LogisticRegression<a class=\"sk-estimator-doc-link fitted\" rel=\"noreferrer\" target=\"_blank\" href=\"https://scikit-learn.org/1.4/modules/generated/sklearn.linear_model.LogisticRegression.html\">?<span>Documentation for LogisticRegression</span></a></label><div class=\"sk-toggleable__content fitted\"><pre>LogisticRegression(max_iter=1000)</pre></div> </div></div></div></div></div></div></div></div></div></div></div>"
     },
     "execution_count": 35,
     "metadata": {},
     "output_type": "execute_result"
    }
   ],
   "source": [
    "model_0.fit(X_train, y_train)"
   ],
   "metadata": {
    "collapsed": false,
    "ExecuteTime": {
     "end_time": "2024-03-30T14:41:22.543174Z",
     "start_time": "2024-03-30T14:41:13.803720Z"
    }
   },
   "id": "ec9bea6de0f41a06",
   "execution_count": 35
  },
  {
   "cell_type": "code",
   "outputs": [],
   "source": [
    "y_pred = model_0.predict(X_test)"
   ],
   "metadata": {
    "collapsed": false,
    "ExecuteTime": {
     "end_time": "2024-03-30T14:41:23.284642Z",
     "start_time": "2024-03-30T14:41:22.550243Z"
    }
   },
   "id": "826d122654076a68",
   "execution_count": 36
  },
  {
   "cell_type": "code",
   "outputs": [
    {
     "data": {
      "text/plain": "0.23610861355871246"
     },
     "execution_count": 37,
     "metadata": {},
     "output_type": "execute_result"
    }
   ],
   "source": [
    "accuracy_score(y_test, y_pred)"
   ],
   "metadata": {
    "collapsed": false,
    "ExecuteTime": {
     "end_time": "2024-03-30T14:41:23.292971Z",
     "start_time": "2024-03-30T14:41:23.285373Z"
    }
   },
   "id": "7dffac1ac137b09e",
   "execution_count": 37
  },
  {
   "cell_type": "code",
   "outputs": [
    {
     "name": "stdout",
     "output_type": "stream",
     "text": [
      "                 precision    recall  f1-score   support\n",
      "\n",
      "         action       0.74      0.14      0.24       499\n",
      "      adventure       0.85      0.06      0.12       174\n",
      "      biography       0.00      0.00      0.00        63\n",
      "         comedy       0.73      0.35      0.48      1473\n",
      "          crime       0.58      0.04      0.08       312\n",
      "          drama       0.68      0.41      0.51      1877\n",
      "         family       0.00      0.00      0.00       116\n",
      "        fantasy       0.50      0.01      0.02       109\n",
      "     historical       0.00      0.00      0.00        38\n",
      "         horror       0.89      0.19      0.31       337\n",
      "   martial arts       0.00      0.00      0.00        27\n",
      "        musical       0.86      0.03      0.06       193\n",
      "        mystery       1.00      0.01      0.02        96\n",
      "           noir       0.00      0.00      0.00        59\n",
      "        romance       0.67      0.12      0.21       391\n",
      "       romantic       0.00      0.00      0.00       123\n",
      "         social       0.00      0.00      0.00        45\n",
      "         sports       0.00      0.00      0.00        19\n",
      "            spy       0.00      0.00      0.00        25\n",
      "       suspense       0.00      0.00      0.00        31\n",
      "       thriller       0.43      0.01      0.02       337\n",
      "            war       0.81      0.24      0.37       109\n",
      "        western       0.97      0.33      0.49       218\n",
      "          world       0.00      0.00      0.00        20\n",
      "science fiction       0.88      0.22      0.35       175\n",
      "\n",
      "      micro avg       0.72      0.24      0.36      6866\n",
      "      macro avg       0.42      0.09      0.13      6866\n",
      "   weighted avg       0.66      0.24      0.33      6866\n",
      "    samples avg       0.29      0.25      0.26      6866\n"
     ]
    },
    {
     "name": "stderr",
     "output_type": "stream",
     "text": [
      "/Users/alexeyks/PycharmProjects/moviesml/.venv/lib/python3.10/site-packages/sklearn/metrics/_classification.py:1509: UndefinedMetricWarning: Precision is ill-defined and being set to 0.0 in labels with no predicted samples. Use `zero_division` parameter to control this behavior.\n",
      "  _warn_prf(average, modifier, f\"{metric.capitalize()} is\", len(result))\n",
      "/Users/alexeyks/PycharmProjects/moviesml/.venv/lib/python3.10/site-packages/sklearn/metrics/_classification.py:1509: UndefinedMetricWarning: Precision is ill-defined and being set to 0.0 in samples with no predicted labels. Use `zero_division` parameter to control this behavior.\n",
      "  _warn_prf(average, modifier, f\"{metric.capitalize()} is\", len(result))\n",
      "/Users/alexeyks/PycharmProjects/moviesml/.venv/lib/python3.10/site-packages/sklearn/metrics/_classification.py:1509: UndefinedMetricWarning: Recall is ill-defined and being set to 0.0 in samples with no true labels. Use `zero_division` parameter to control this behavior.\n",
      "  _warn_prf(average, modifier, f\"{metric.capitalize()} is\", len(result))\n",
      "/Users/alexeyks/PycharmProjects/moviesml/.venv/lib/python3.10/site-packages/sklearn/metrics/_classification.py:1509: UndefinedMetricWarning: F-score is ill-defined and being set to 0.0 in samples with no true nor predicted labels. Use `zero_division` parameter to control this behavior.\n",
      "  _warn_prf(average, modifier, f\"{metric.capitalize()} is\", len(result))\n"
     ]
    }
   ],
   "source": [
    "print(classification_report(y_test, y_pred, target_names=y.columns))"
   ],
   "metadata": {
    "collapsed": false,
    "ExecuteTime": {
     "end_time": "2024-03-30T14:41:23.306351Z",
     "start_time": "2024-03-30T14:41:23.293880Z"
    }
   },
   "id": "75953c83235e05d",
   "execution_count": 38
  },
  {
   "cell_type": "markdown",
   "source": [
    "Based on the classification report, I can see that the model has problems with predicting the minority classes. I will try to use a neural network with an embedding layer to improve the results."
   ],
   "metadata": {
    "collapsed": false
   },
   "id": "522b2c16241b161b"
  },
  {
   "cell_type": "markdown",
   "source": [],
   "metadata": {
    "collapsed": false
   },
   "id": "ddc3b9656c41b24"
  },
  {
   "cell_type": "markdown",
   "source": [
    "### Sequential model with embedding"
   ],
   "metadata": {
    "collapsed": false
   },
   "id": "f71dd619ba467f1"
  },
  {
   "cell_type": "code",
   "outputs": [],
   "source": [
    "import tensorflow as tf\n",
    "from tensorflow.keras import layers"
   ],
   "metadata": {
    "collapsed": false,
    "ExecuteTime": {
     "end_time": "2024-03-30T14:41:26.164126Z",
     "start_time": "2024-03-30T14:41:23.307268Z"
    }
   },
   "id": "d6cdc4265cb641df",
   "execution_count": 39
  },
  {
   "cell_type": "markdown",
   "source": [
    "Since I already have on-hot encoded labels, before creating the model, I will create a TextVectorization layer that will convert the text to a sequence of integers. I will use the top 10000 tokens and the output sequence length of 200."
   ],
   "metadata": {
    "collapsed": false
   },
   "id": "527265837246fb83"
  },
  {
   "cell_type": "code",
   "outputs": [],
   "source": [
    "X_train_list = X_train.to_list()\n",
    "X_test_list = X_test.to_list()"
   ],
   "metadata": {
    "collapsed": false,
    "ExecuteTime": {
     "end_time": "2024-03-30T14:41:26.167545Z",
     "start_time": "2024-03-30T14:41:26.164868Z"
    }
   },
   "id": "58f2a2d99cda564d",
   "execution_count": 40
  },
  {
   "cell_type": "code",
   "outputs": [
    {
     "data": {
      "text/plain": "386.7983903601457"
     },
     "execution_count": 41,
     "metadata": {},
     "output_type": "execute_result"
    }
   ],
   "source": [
    "# Find optimal number for output_sequence_length\n",
    "sent_lens = [len(sentence.split()) for sentence in X_train_list]\n",
    "avg_sent_len = np.mean(sent_lens)\n",
    "avg_sent_len"
   ],
   "metadata": {
    "collapsed": false,
    "ExecuteTime": {
     "end_time": "2024-03-30T14:41:26.411374Z",
     "start_time": "2024-03-30T14:41:26.168253Z"
    }
   },
   "id": "2a44e3e15a1106d8",
   "execution_count": 41
  },
  {
   "cell_type": "code",
   "outputs": [
    {
     "data": {
      "text/plain": "918"
     },
     "execution_count": 42,
     "metadata": {},
     "output_type": "execute_result"
    }
   ],
   "source": [
    "output_seq_len = int(np.percentile(sent_lens, 95))\n",
    "output_seq_len"
   ],
   "metadata": {
    "collapsed": false,
    "ExecuteTime": {
     "end_time": "2024-03-30T14:41:26.416779Z",
     "start_time": "2024-03-30T14:41:26.412320Z"
    }
   },
   "id": "7f29589d44099f40",
   "execution_count": 42
  },
  {
   "cell_type": "markdown",
   "source": [
    "I will also find the vocabulary size and use the 95th percentile of the vocabulary size for my vectorization layer."
   ],
   "metadata": {
    "collapsed": false
   },
   "id": "cc0bac93138dd55b"
  },
  {
   "cell_type": "code",
   "outputs": [
    {
     "name": "stdout",
     "output_type": "stream",
     "text": [
      "Vocabulary size: 108026\n"
     ]
    }
   ],
   "source": [
    "from collections import Counter\n",
    "import re\n",
    "\n",
    "# Flatten the list of texts if your dataset is structured differently\n",
    "all_texts = ' '.join(X_train_list)\n",
    "\n",
    "# Simple tokenization based on whitespace; you might need a more sophisticated approach\n",
    "tokens = re.findall(r'\\b\\w+\\b', all_texts.lower())\n",
    "\n",
    "# Count unique tokens\n",
    "token_counts = Counter(tokens)\n",
    "vocab_size = len(token_counts)\n",
    "print(f\"Vocabulary size: {vocab_size}\")"
   ],
   "metadata": {
    "collapsed": false,
    "ExecuteTime": {
     "end_time": "2024-03-30T14:41:28.418389Z",
     "start_time": "2024-03-30T14:41:26.417477Z"
    }
   },
   "id": "fed2fd8a7aa7bf8f",
   "execution_count": 43
  },
  {
   "cell_type": "code",
   "outputs": [
    {
     "name": "stdout",
     "output_type": "stream",
     "text": [
      "Vocabulary size covering 95% of token occurrences: 17294\n"
     ]
    }
   ],
   "source": [
    "total_occurrences = sum(token_counts.values())\n",
    "cumulative_occurrences = 0\n",
    "vocab_size_95 = 0\n",
    "\n",
    "# Sort tokens by frequency\n",
    "sorted_tokens = token_counts.most_common()\n",
    "\n",
    "# Find the number of tokens that make up at least 95% of total occurrences\n",
    "for token, count in sorted_tokens:\n",
    "    cumulative_occurrences += count\n",
    "    vocab_size_95 += 1\n",
    "    if cumulative_occurrences >= total_occurrences * 0.95:\n",
    "        break\n",
    "\n",
    "print(f\"Vocabulary size covering 95% of token occurrences: {vocab_size_95}\")"
   ],
   "metadata": {
    "collapsed": false,
    "ExecuteTime": {
     "end_time": "2024-03-30T14:41:28.499571Z",
     "start_time": "2024-03-30T14:41:28.419424Z"
    }
   },
   "id": "684659ee97a4171",
   "execution_count": 44
  },
  {
   "cell_type": "code",
   "outputs": [
    {
     "name": "stdout",
     "output_type": "stream",
     "text": [
      "Adjusted vocabulary size with buffer for OOV tokens: 18294\n"
     ]
    }
   ],
   "source": [
    "# Adding a buffer for OOV tokens\n",
    "buffer_size = 1000  # or any other number based on your assessment\n",
    "adj_vocab_size = vocab_size_95 + buffer_size\n",
    "\n",
    "print(f\"Adjusted vocabulary size with buffer for OOV tokens: {adj_vocab_size}\")\n"
   ],
   "metadata": {
    "collapsed": false,
    "ExecuteTime": {
     "end_time": "2024-03-30T14:41:28.502363Z",
     "start_time": "2024-03-30T14:41:28.500349Z"
    }
   },
   "id": "46c64308bc3e949b",
   "execution_count": 45
  },
  {
   "cell_type": "code",
   "outputs": [],
   "source": [
    "# Create the TextVectorization layer\n",
    "vectorize_layer = tf.keras.layers.TextVectorization(max_tokens=adj_vocab_size, output_sequence_length=output_seq_len)\n",
    "# Adapt it to the training data\n",
    "vectorize_layer.adapt(X_train.to_numpy())"
   ],
   "metadata": {
    "collapsed": false,
    "ExecuteTime": {
     "end_time": "2024-03-30T14:41:30.157587Z",
     "start_time": "2024-03-30T14:41:28.503564Z"
    }
   },
   "id": "4c894751a0b67a45",
   "execution_count": 46
  },
  {
   "cell_type": "code",
   "outputs": [],
   "source": [
    "model_1 = tf.keras.Sequential([\n",
    "    vectorize_layer,\n",
    "    layers.Embedding(input_dim=adj_vocab_size + 1, output_dim=128),\n",
    "    layers.GlobalAveragePooling1D(),\n",
    "    layers.Dense(128, activation='relu'),\n",
    "    layers.Dense(y_train.shape[1], activation='sigmoid')\n",
    "])"
   ],
   "metadata": {
    "collapsed": false,
    "ExecuteTime": {
     "end_time": "2024-03-30T14:41:30.163717Z",
     "start_time": "2024-03-30T14:41:30.158591Z"
    }
   },
   "id": "5bae498a102d2798",
   "execution_count": 47
  },
  {
   "cell_type": "code",
   "outputs": [],
   "source": [
    "model_1.compile(loss='binary_crossentropy', optimizer='adam', metrics=['accuracy'])"
   ],
   "metadata": {
    "collapsed": false,
    "ExecuteTime": {
     "end_time": "2024-03-30T14:41:30.170718Z",
     "start_time": "2024-03-30T14:41:30.164467Z"
    }
   },
   "id": "12298832c2de41db",
   "execution_count": 48
  },
  {
   "cell_type": "code",
   "outputs": [
    {
     "name": "stdout",
     "output_type": "stream",
     "text": [
      "Epoch 1/10\n",
      "\u001B[1m696/696\u001B[0m \u001B[32m━━━━━━━━━━━━━━━━━━━━\u001B[0m\u001B[37m\u001B[0m \u001B[1m7s\u001B[0m 10ms/step - accuracy: 0.2602 - loss: 0.1997 - val_accuracy: 0.2701 - val_loss: 0.1541\n",
      "Epoch 2/10\n",
      "\u001B[1m696/696\u001B[0m \u001B[32m━━━━━━━━━━━━━━━━━━━━\u001B[0m\u001B[37m\u001B[0m \u001B[1m7s\u001B[0m 10ms/step - accuracy: 0.2690 - loss: 0.1551 - val_accuracy: 0.2857 - val_loss: 0.1503\n",
      "Epoch 3/10\n",
      "\u001B[1m696/696\u001B[0m \u001B[32m━━━━━━━━━━━━━━━━━━━━\u001B[0m\u001B[37m\u001B[0m \u001B[1m7s\u001B[0m 10ms/step - accuracy: 0.2918 - loss: 0.1508 - val_accuracy: 0.3079 - val_loss: 0.1469\n",
      "Epoch 4/10\n",
      "\u001B[1m696/696\u001B[0m \u001B[32m━━━━━━━━━━━━━━━━━━━━\u001B[0m\u001B[37m\u001B[0m \u001B[1m7s\u001B[0m 10ms/step - accuracy: 0.3266 - loss: 0.1458 - val_accuracy: 0.3573 - val_loss: 0.1408\n",
      "Epoch 5/10\n",
      "\u001B[1m696/696\u001B[0m \u001B[32m━━━━━━━━━━━━━━━━━━━━\u001B[0m\u001B[37m\u001B[0m \u001B[1m7s\u001B[0m 9ms/step - accuracy: 0.3666 - loss: 0.1403 - val_accuracy: 0.3737 - val_loss: 0.1369\n",
      "Epoch 6/10\n",
      "\u001B[1m696/696\u001B[0m \u001B[32m━━━━━━━━━━━━━━━━━━━━\u001B[0m\u001B[37m\u001B[0m \u001B[1m7s\u001B[0m 10ms/step - accuracy: 0.4050 - loss: 0.1339 - val_accuracy: 0.3659 - val_loss: 0.1356\n",
      "Epoch 7/10\n",
      "\u001B[1m696/696\u001B[0m \u001B[32m━━━━━━━━━━━━━━━━━━━━\u001B[0m\u001B[37m\u001B[0m \u001B[1m7s\u001B[0m 10ms/step - accuracy: 0.4174 - loss: 0.1296 - val_accuracy: 0.3915 - val_loss: 0.1322\n",
      "Epoch 8/10\n",
      "\u001B[1m696/696\u001B[0m \u001B[32m━━━━━━━━━━━━━━━━━━━━\u001B[0m\u001B[37m\u001B[0m \u001B[1m7s\u001B[0m 10ms/step - accuracy: 0.4473 - loss: 0.1239 - val_accuracy: 0.4271 - val_loss: 0.1335\n",
      "Epoch 9/10\n",
      "\u001B[1m696/696\u001B[0m \u001B[32m━━━━━━━━━━━━━━━━━━━━\u001B[0m\u001B[37m\u001B[0m \u001B[1m7s\u001B[0m 10ms/step - accuracy: 0.4724 - loss: 0.1201 - val_accuracy: 0.4256 - val_loss: 0.1225\n",
      "Epoch 10/10\n",
      "\u001B[1m696/696\u001B[0m \u001B[32m━━━━━━━━━━━━━━━━━━━━\u001B[0m\u001B[37m\u001B[0m \u001B[1m7s\u001B[0m 10ms/step - accuracy: 0.4936 - loss: 0.1134 - val_accuracy: 0.4407 - val_loss: 0.1279\n"
     ]
    },
    {
     "data": {
      "text/plain": "<keras.src.callbacks.history.History at 0x30d5eebf0>"
     },
     "execution_count": 49,
     "metadata": {},
     "output_type": "execute_result"
    }
   ],
   "source": [
    "model_1.fit(X_train, y_train, epochs=10, batch_size=32, validation_data=(X_test, y_test))"
   ],
   "metadata": {
    "collapsed": false,
    "ExecuteTime": {
     "end_time": "2024-03-30T14:42:39.049092Z",
     "start_time": "2024-03-30T14:41:30.171436Z"
    }
   },
   "id": "9e8df74c9bf12dd2",
   "execution_count": 49
  },
  {
   "cell_type": "code",
   "outputs": [
    {
     "name": "stdout",
     "output_type": "stream",
     "text": [
      "\u001B[1m174/174\u001B[0m \u001B[32m━━━━━━━━━━━━━━━━━━━━\u001B[0m\u001B[37m\u001B[0m \u001B[1m1s\u001B[0m 3ms/step\n"
     ]
    }
   ],
   "source": [
    "y_pred = model_1.predict(X_test)"
   ],
   "metadata": {
    "collapsed": false,
    "ExecuteTime": {
     "end_time": "2024-03-30T14:42:39.727583Z",
     "start_time": "2024-03-30T14:42:39.050806Z"
    }
   },
   "id": "b18ab109953d6d4d",
   "execution_count": 50
  },
  {
   "cell_type": "code",
   "outputs": [
    {
     "data": {
      "text/plain": "array([[0, 0, 0, 1, 0, 0, 0, 0, 0, 0, 0, 0, 0, 0, 1, 0, 0, 0, 0, 0, 0, 0,\n        0, 0, 0],\n       [0, 0, 0, 0, 0, 0, 0, 0, 0, 0, 0, 0, 0, 0, 0, 0, 0, 0, 0, 0, 0, 0,\n        0, 0, 0],\n       [0, 0, 0, 1, 0, 0, 0, 0, 0, 0, 0, 0, 0, 0, 0, 0, 0, 0, 0, 0, 0, 0,\n        0, 0, 0],\n       [1, 0, 0, 0, 0, 0, 1, 1, 0, 0, 0, 0, 0, 0, 0, 0, 0, 0, 0, 0, 0, 0,\n        0, 0, 0],\n       [0, 0, 0, 0, 0, 0, 0, 0, 0, 0, 0, 0, 0, 0, 1, 0, 0, 0, 0, 0, 0, 0,\n        0, 0, 0]])"
     },
     "execution_count": 51,
     "metadata": {},
     "output_type": "execute_result"
    }
   ],
   "source": [
    "y_pred = (y_pred > 0.5).astype(int)\n",
    "y_pred[:5]"
   ],
   "metadata": {
    "collapsed": false,
    "ExecuteTime": {
     "end_time": "2024-03-30T14:42:39.731378Z",
     "start_time": "2024-03-30T14:42:39.728427Z"
    }
   },
   "id": "4f41bf7a810721db",
   "execution_count": 51
  },
  {
   "cell_type": "code",
   "outputs": [
    {
     "data": {
      "text/plain": "0.2853803272792663"
     },
     "execution_count": 52,
     "metadata": {},
     "output_type": "execute_result"
    }
   ],
   "source": [
    "# evaluate the model\n",
    "accuracy_score(y_test, y_pred) "
   ],
   "metadata": {
    "collapsed": false,
    "ExecuteTime": {
     "end_time": "2024-03-30T14:42:39.740905Z",
     "start_time": "2024-03-30T14:42:39.732058Z"
    }
   },
   "id": "e7ac247575c2ee8b",
   "execution_count": 52
  },
  {
   "cell_type": "code",
   "outputs": [
    {
     "name": "stdout",
     "output_type": "stream",
     "text": [
      "                 precision    recall  f1-score   support\n",
      "\n",
      "         action       0.58      0.27      0.37       499\n",
      "      adventure       0.50      0.01      0.02       174\n",
      "      biography       0.00      0.00      0.00        63\n",
      "         comedy       0.54      0.66      0.59      1473\n",
      "          crime       0.50      0.02      0.03       312\n",
      "          drama       0.62      0.46      0.53      1877\n",
      "         family       0.00      0.00      0.00       116\n",
      "        fantasy       0.31      0.09      0.14       109\n",
      "     historical       0.00      0.00      0.00        38\n",
      "         horror       0.77      0.43      0.55       337\n",
      "   martial arts       0.00      0.00      0.00        27\n",
      "        musical       0.44      0.02      0.04       193\n",
      "        mystery       0.50      0.01      0.02        96\n",
      "           noir       1.00      0.02      0.03        59\n",
      "        romance       0.51      0.24      0.33       391\n",
      "       romantic       0.00      0.00      0.00       123\n",
      "         social       0.00      0.00      0.00        45\n",
      "         sports       0.00      0.00      0.00        19\n",
      "            spy       0.00      0.00      0.00        25\n",
      "       suspense       0.00      0.00      0.00        31\n",
      "       thriller       0.49      0.06      0.10       337\n",
      "            war       0.77      0.21      0.33       109\n",
      "        western       0.97      0.14      0.24       218\n",
      "          world       0.00      0.00      0.00        20\n",
      "science fiction       0.75      0.30      0.43       175\n",
      "\n",
      "      micro avg       0.58      0.34      0.43      6866\n",
      "      macro avg       0.37      0.12      0.15      6866\n",
      "   weighted avg       0.55      0.34      0.38      6866\n",
      "    samples avg       0.40      0.35      0.36      6866\n"
     ]
    },
    {
     "name": "stderr",
     "output_type": "stream",
     "text": [
      "/Users/alexeyks/PycharmProjects/moviesml/.venv/lib/python3.10/site-packages/sklearn/metrics/_classification.py:1509: UndefinedMetricWarning: Precision is ill-defined and being set to 0.0 in labels with no predicted samples. Use `zero_division` parameter to control this behavior.\n",
      "  _warn_prf(average, modifier, f\"{metric.capitalize()} is\", len(result))\n",
      "/Users/alexeyks/PycharmProjects/moviesml/.venv/lib/python3.10/site-packages/sklearn/metrics/_classification.py:1509: UndefinedMetricWarning: Precision is ill-defined and being set to 0.0 in samples with no predicted labels. Use `zero_division` parameter to control this behavior.\n",
      "  _warn_prf(average, modifier, f\"{metric.capitalize()} is\", len(result))\n",
      "/Users/alexeyks/PycharmProjects/moviesml/.venv/lib/python3.10/site-packages/sklearn/metrics/_classification.py:1509: UndefinedMetricWarning: Recall is ill-defined and being set to 0.0 in samples with no true labels. Use `zero_division` parameter to control this behavior.\n",
      "  _warn_prf(average, modifier, f\"{metric.capitalize()} is\", len(result))\n",
      "/Users/alexeyks/PycharmProjects/moviesml/.venv/lib/python3.10/site-packages/sklearn/metrics/_classification.py:1509: UndefinedMetricWarning: F-score is ill-defined and being set to 0.0 in samples with no true nor predicted labels. Use `zero_division` parameter to control this behavior.\n",
      "  _warn_prf(average, modifier, f\"{metric.capitalize()} is\", len(result))\n"
     ]
    }
   ],
   "source": [
    "# print the classification report\n",
    "print(classification_report(y_test, y_pred, target_names=y.columns))"
   ],
   "metadata": {
    "collapsed": false,
    "ExecuteTime": {
     "end_time": "2024-03-30T14:42:39.753630Z",
     "start_time": "2024-03-30T14:42:39.741631Z"
    }
   },
   "id": "805aae87af51b061",
   "execution_count": 53
  },
  {
   "cell_type": "markdown",
   "source": [
    "The performance of model is worse than the logistic regression model. I will try to use oversampling to improve the results."
   ],
   "metadata": {
    "collapsed": false
   },
   "id": "9e956572ff138310"
  },
  {
   "cell_type": "markdown",
   "source": [
    "### Oversampling"
   ],
   "metadata": {
    "collapsed": false
   },
   "id": "612b9fc28d976a6e"
  },
  {
   "cell_type": "markdown",
   "source": [
    "The model with the embedding layer performs better than the logistic regression model. However, it still has problems with predicting the minority classes. I will try to use the oversampling technique to improve the results. First I will create duplicate samples for the minority classes (applied to the split data to avoid data leakage)."
   ],
   "metadata": {
    "collapsed": false
   },
   "id": "8912b2a6091f9dd4"
  },
  {
   "cell_type": "code",
   "outputs": [
    {
     "data": {
      "text/plain": "Index(['adventure', 'biography', 'family', 'fantasy', 'historical',\n       'martial arts', 'musical', 'mystery', 'noir', 'romantic', 'social',\n       'sports', 'spy', 'suspense', 'war', 'western', 'world',\n       'science fiction'],\n      dtype='object')"
     },
     "execution_count": 54,
     "metadata": {},
     "output_type": "execute_result"
    }
   ],
   "source": [
    "# find minority classes (less than 1000 samples)\n",
    "genre_count = df_oh_cleared.iloc[:, 1:].sum()\n",
    "minority_classes = genre_count[genre_count < 1000].index\n",
    "minority_classes"
   ],
   "metadata": {
    "collapsed": false,
    "ExecuteTime": {
     "end_time": "2024-03-30T14:42:39.759929Z",
     "start_time": "2024-03-30T14:42:39.754357Z"
    }
   },
   "id": "616cafbf3ce6a4c3",
   "execution_count": 54
  },
  {
   "cell_type": "code",
   "outputs": [],
   "source": [
    "X = df_oh_cleared['Plot']\n",
    "y = df_oh_cleared.iloc[:, 1:]\n",
    "X_train, X_test, y_train, y_test = train_test_split(X, y, test_size=0.2, random_state=42)"
   ],
   "metadata": {
    "collapsed": false,
    "ExecuteTime": {
     "end_time": "2024-03-30T14:42:39.787209Z",
     "start_time": "2024-03-30T14:42:39.760830Z"
    }
   },
   "id": "9cdfad651ad0ce38",
   "execution_count": 55
  },
  {
   "cell_type": "code",
   "outputs": [],
   "source": [
    "minority_indices = y_train[y_train[minority_classes].sum(axis=1) > 0].index"
   ],
   "metadata": {
    "collapsed": false,
    "ExecuteTime": {
     "end_time": "2024-03-30T14:42:39.793748Z",
     "start_time": "2024-03-30T14:42:39.788295Z"
    }
   },
   "id": "3fb4c8cbbd1b710e",
   "execution_count": 56
  },
  {
   "cell_type": "code",
   "outputs": [
    {
     "data": {
      "text/plain": "((22241,), (22241, 25))"
     },
     "execution_count": 57,
     "metadata": {},
     "output_type": "execute_result"
    }
   ],
   "source": [
    "X_train.shape, y_train.shape"
   ],
   "metadata": {
    "collapsed": false,
    "ExecuteTime": {
     "end_time": "2024-03-30T14:42:39.796760Z",
     "start_time": "2024-03-30T14:42:39.794563Z"
    }
   },
   "id": "f5b28390d1260940",
   "execution_count": 57
  },
  {
   "cell_type": "markdown",
   "source": [
    "#### Duplicating samples"
   ],
   "metadata": {
    "collapsed": false
   },
   "id": "ed8b0dea018fc10c"
  },
  {
   "cell_type": "markdown",
   "source": [
    "I want to create duplicate samples for the minority classes depending on the number of samples in this class. I will calculate the duplication factor for each class, so that the number of samples in each class is at least 1000."
   ],
   "metadata": {
    "collapsed": false
   },
   "id": "1ead9a85f36cecfa"
  },
  {
   "cell_type": "code",
   "outputs": [
    {
     "data": {
      "text/plain": "world            82\nmartial arts     83\nsports          100\nspy             118\nsuspense        131\ndtype: int64"
     },
     "execution_count": 58,
     "metadata": {},
     "output_type": "execute_result"
    }
   ],
   "source": [
    "genre_counts_train = y_train.sum(axis=0)\n",
    "genre_counts_train.sort_values()[:5]"
   ],
   "metadata": {
    "collapsed": false,
    "ExecuteTime": {
     "end_time": "2024-03-30T14:42:39.801329Z",
     "start_time": "2024-03-30T14:42:39.797437Z"
    }
   },
   "id": "2be0f88fa64608e4",
   "execution_count": 58
  },
  {
   "cell_type": "code",
   "outputs": [],
   "source": [
    "def duplication_factor(num_samples):\n",
    "    return int(np.ceil(1000 / num_samples))"
   ],
   "metadata": {
    "collapsed": false,
    "ExecuteTime": {
     "end_time": "2024-03-30T14:42:39.804014Z",
     "start_time": "2024-03-30T14:42:39.802048Z"
    }
   },
   "id": "cfa38892a22ff5b1",
   "execution_count": 59
  },
  {
   "cell_type": "markdown",
   "source": [
    "Before oversampling, I want to create not just duplicates, but modify them. For this I will create a function that will apply transformations to the data. I will use the following transformations:\n",
    "- change words to synonyms (using WordNet) with a probability of 0.3\n",
    "- use back translation (translate the text to another language and then back to the original language)\n"
   ],
   "metadata": {
    "collapsed": false
   },
   "id": "39caf6bcb023630d"
  },
  {
   "cell_type": "markdown",
   "source": [
    "#### Synonym replacement"
   ],
   "metadata": {
    "collapsed": false
   },
   "id": "db6093ffe5d26a7f"
  },
  {
   "cell_type": "code",
   "outputs": [
    {
     "name": "stderr",
     "output_type": "stream",
     "text": [
      "[nltk_data] Downloading package wordnet to\n",
      "[nltk_data]     /Users/alexeyks/nltk_data...\n",
      "[nltk_data]   Package wordnet is already up-to-date!\n"
     ]
    },
    {
     "data": {
      "text/plain": "True"
     },
     "execution_count": 60,
     "metadata": {},
     "output_type": "execute_result"
    }
   ],
   "source": [
    "import nltk\n",
    "nltk.download('wordnet')"
   ],
   "metadata": {
    "collapsed": false,
    "ExecuteTime": {
     "end_time": "2024-03-30T14:42:40.301423Z",
     "start_time": "2024-03-30T14:42:39.804953Z"
    }
   },
   "id": "660cc9b59728c83a",
   "execution_count": 60
  },
  {
   "cell_type": "code",
   "outputs": [],
   "source": [
    "from itertools import chain\n",
    "from nltk.corpus import wordnet\n",
    "import random\n",
    "\n",
    "from itertools import chain\n",
    "from nltk.corpus import wordnet\n",
    "import random\n",
    "\n",
    "def synonym_replacement(sentence, rep_prob=0.2):\n",
    "    words = sentence.split()\n",
    "    new_words = []\n",
    "    for word in words:\n",
    "        if isinstance(word, str) and random.uniform(0, 1) <= rep_prob:\n",
    "            synonyms = set(chain.from_iterable([syn.lemma_names() for syn in wordnet.synsets(word)]))\n",
    "            if synonyms:\n",
    "                new_words.append(random.choice(list(synonyms)))\n",
    "            else:\n",
    "                new_words.append(word)\n",
    "        else:\n",
    "            new_words.append(word)\n",
    "    return ' '.join(new_words)"
   ],
   "metadata": {
    "collapsed": false,
    "ExecuteTime": {
     "end_time": "2024-03-30T14:42:40.306329Z",
     "start_time": "2024-03-30T14:42:40.302676Z"
    }
   },
   "id": "f84077638a9b9898",
   "execution_count": 61
  },
  {
   "cell_type": "code",
   "outputs": [
    {
     "data": {
      "text/plain": "'The movie is about a young man who decided to become a musician atomic_number_85 30 years.'"
     },
     "execution_count": 62,
     "metadata": {},
     "output_type": "execute_result"
    }
   ],
   "source": [
    "sentence = 'The movie is about a young man who decided to become a musician at 30 years.'\n",
    "translated_sentence = synonym_replacement(sentence)\n",
    "translated_sentence"
   ],
   "metadata": {
    "collapsed": false,
    "ExecuteTime": {
     "end_time": "2024-03-30T14:42:41.248782Z",
     "start_time": "2024-03-30T14:42:40.307125Z"
    }
   },
   "id": "f913a59038223337",
   "execution_count": 62
  },
  {
   "cell_type": "markdown",
   "source": [
    "#### Back translation"
   ],
   "metadata": {
    "collapsed": false
   },
   "id": "37f1691047a82a3b"
  },
  {
   "cell_type": "markdown",
   "source": [
    "For translation, I will use transformers library. I will use HuggingFace's pipeline for translation. I will translate the text to French and then back to English."
   ],
   "metadata": {
    "collapsed": false
   },
   "id": "31f5d11af511f468"
  },
  {
   "cell_type": "code",
   "outputs": [
    {
     "name": "stderr",
     "output_type": "stream",
     "text": [
      "All model checkpoint layers were used when initializing TFMarianMTModel.\n",
      "\n",
      "All the layers of TFMarianMTModel were initialized from the model checkpoint at Helsinki-NLP/opus-mt-en-fr.\n",
      "If your task is similar to the task the model of the checkpoint was trained on, you can already use TFMarianMTModel for predictions without further training.\n",
      "All model checkpoint layers were used when initializing TFMarianMTModel.\n",
      "\n",
      "All the layers of TFMarianMTModel were initialized from the model checkpoint at Helsinki-NLP/opus-mt-fr-en.\n",
      "If your task is similar to the task the model of the checkpoint was trained on, you can already use TFMarianMTModel for predictions without further training.\n"
     ]
    }
   ],
   "source": [
    "from transformers import pipeline\n",
    "\n",
    "# Initialize translation pipelines globally\n",
    "translate_to_intermediate_pipeline = pipeline(\"translation\", model=f\"Helsinki-NLP/opus-mt-en-fr\")\n",
    "translate_back_to_src_pipeline = pipeline(\"translation\", model=f\"Helsinki-NLP/opus-mt-fr-en\")\n",
    "\n",
    "# Define back translation function\n",
    "def back_translate(text, translate_to_intermediate, translate_back_to_src):\n",
    "    # Translate to the intermediate language\n",
    "    translation = translate_to_intermediate(text)\n",
    "    intermediate_text = translation[0]['translation_text']\n",
    "    \n",
    "    # Translate back to the source language\n",
    "    back_translation = translate_back_to_src(intermediate_text)\n",
    "    src_text = back_translation[0]['translation_text']\n",
    "    \n",
    "    return src_text\n",
    "\n"
   ],
   "metadata": {
    "collapsed": false,
    "ExecuteTime": {
     "end_time": "2024-03-30T14:42:45.482510Z",
     "start_time": "2024-03-30T14:42:41.251139Z"
    }
   },
   "id": "3814eb76ddca9944",
   "execution_count": 63
  },
  {
   "cell_type": "code",
   "outputs": [
    {
     "data": {
      "text/plain": "'The film speaks of a young man who decided to become a musician at the age of 30.'"
     },
     "execution_count": 64,
     "metadata": {},
     "output_type": "execute_result"
    }
   ],
   "source": [
    "back_translate(sentence, translate_to_intermediate_pipeline, translate_back_to_src_pipeline)"
   ],
   "metadata": {
    "collapsed": false,
    "ExecuteTime": {
     "end_time": "2024-03-30T14:42:49.359002Z",
     "start_time": "2024-03-30T14:42:45.483745Z"
    }
   },
   "id": "c029540ceff76bc4",
   "execution_count": 64
  },
  {
   "cell_type": "code",
   "outputs": [
    {
     "data": {
      "text/plain": "((22241,), (22241, 25))"
     },
     "execution_count": 65,
     "metadata": {},
     "output_type": "execute_result"
    }
   ],
   "source": [
    "X_train.shape, y_train.shape"
   ],
   "metadata": {
    "collapsed": false,
    "ExecuteTime": {
     "end_time": "2024-03-30T14:42:49.362402Z",
     "start_time": "2024-03-30T14:42:49.359806Z"
    }
   },
   "id": "297873a1d3a0fc41",
   "execution_count": 65
  },
  {
   "cell_type": "markdown",
   "source": [
    "The specified maximum sequence length for the translation model is 512. Some of the plots are longer than this, so I will use Split-Translate-Combine approach, where I will split the text into smaller parts, translate them and then combine them back."
   ],
   "metadata": {
    "collapsed": false
   },
   "id": "7588794fb69d3655"
  },
  {
   "cell_type": "code",
   "outputs": [],
   "source": [
    "def split_text(text, max_length=512):\n",
    "    \"\"\"\n",
    "    Splits a text into chunks of `max_length`.\n",
    "    \"\"\"\n",
    "    words = text.split()\n",
    "    chunks = []\n",
    "    current_chunk = []\n",
    "    current_length = 0\n",
    "\n",
    "    for word in words:\n",
    "        if current_length + len(word) + 1 <= max_length:  # +1 for space\n",
    "            current_chunk.append(word)\n",
    "            current_length += len(word) + 1\n",
    "        else:\n",
    "            chunks.append(\" \".join(current_chunk))\n",
    "            current_chunk = [word]\n",
    "            current_length = len(word) + 1\n",
    "\n",
    "    if current_chunk:\n",
    "        chunks.append(\" \".join(current_chunk))\n",
    "\n",
    "    return chunks\n",
    "\n",
    "def combine_chunks(chunks):\n",
    "    \"\"\"\n",
    "    Combines translated chunks back into a full text.\n",
    "    \"\"\"\n",
    "    return ' '.join(chunks)\n",
    "\n",
    "\n",
    "def back_translate_chunks(chunks, src_lang=\"en\", intermediate_lang=\"fr\"):\n",
    "    \"\"\"\n",
    "    Applies back translation to a list of text chunks.\n",
    "    Adjust this function to utilize your back_translation implementation.\n",
    "    \"\"\"\n",
    "    translated_chunks = [back_translate(chunk, src_lang, intermediate_lang) for chunk in chunks]\n",
    "    return translated_chunks\n",
    "\n",
    "def process_long_text(text, src_lang=\"en\", intermediate_lang=\"fr\"):\n",
    "    \"\"\"\n",
    "    Processes long texts by splitting, back translating each chunk, and then combining.\n",
    "    \"\"\"\n",
    "    chunks = split_text(text)  # Use the refined split function\n",
    "    translated_chunks = [back_translate(chunk, translate_to_intermediate_pipeline, translate_back_to_src_pipeline) for chunk in chunks] \n",
    "    translated_text = combine_chunks(translated_chunks)  # Use the refined combine function\n",
    "    return translated_text\n",
    "\n"
   ],
   "metadata": {
    "collapsed": false,
    "ExecuteTime": {
     "end_time": "2024-03-30T14:42:49.366915Z",
     "start_time": "2024-03-30T14:42:49.363212Z"
    }
   },
   "id": "2e2fddb3c2a7baa6",
   "execution_count": 66
  },
  {
   "cell_type": "code",
   "outputs": [
    {
     "data": {
      "text/plain": "'In a barrack room at a combat training field in England, a platoon of conscripts complain of blisters and are eager to take action with the enemy. Sergeant Jack Watson tells them that they need a little more to succeed in the fight, which he illustrates with a history of his experience in the western desert campaign[1]. His story is then shown in flashback. Lieutenant Crawford, Sergeant Watson and the seven men under their command travel in the Libyan desert in a Allied convoy, when their truck becomes stuck in the sand and the convoy moves without them. while they work to free themselves, they are attacked by German planes, wounding Crawford and Johnson and setting fire to the truck. slam on foot and carry the wounded, they fight through a sandstorm until they cross an abandoned cabin. Lieutenant Crawford orders them to stand there until the aid arrives, but then dies. with only a limited supply of ammunition and their own minds to help them. They are then besieged by the Italian troops. by various tricks and the skillful use of their weapons, they are able to hold until the Italians make a final assault; since the British soldiers use the last of their bullets and finally resort to a bayonet charge, the reinforcements arrive supported by tanks, where the Italians go. back to the barrack room, watson concludes his story as the sound of the bayonet for dinner [3].'"
     },
     "execution_count": 67,
     "metadata": {},
     "output_type": "execute_result"
    }
   ],
   "source": [
    "# Example\n",
    "long_text = df_oh_cleared['Plot'][18649]\n",
    "processed_text = process_long_text(long_text)\n",
    "processed_text"
   ],
   "metadata": {
    "collapsed": false,
    "ExecuteTime": {
     "end_time": "2024-03-30T14:43:49.408818Z",
     "start_time": "2024-03-30T14:42:49.367750Z"
    }
   },
   "id": "14539e4fab3a23fc",
   "execution_count": 67
  },
  {
   "cell_type": "code",
   "outputs": [
    {
     "data": {
      "text/plain": "'in a barrack room at a battle training ground in england, a platoon of conscripts are complaining about blisters and are impatient to get into action with the enemy. sergeant jack watson tells them that they need a little bit extra to be successful in combat, which he illustrates with a story from his experience in the western desert campaign.[1]\\r\\nhis story is then shown in flashback. lieutenant crawford, sergeant watson and the seven men under their command are travelling through the libyan desert in an allied convoy, when their lorry becomes stuck in the sand and the convoy moves on without them. as they work to free themselves, they are attacked by german aircraft, injuring crawford and johnson and setting fire to the lorry. setting off on foot and carrying the wounded, they struggle through a sandstorm until they come across a derelict hut. lieutenant crawford orders them to hold out there until help arrives but then dies. with only a limited supply of ammunition and their own wits to help them survive, they are then besieged by italian troops. by various ruses and skilful use of their weapons, they are able to hold out until the italians make a final assault; as the british soldiers use the last of their bullets and finally resort to a bayonet charge, reinforcements arrive supported by tanks, whereupon the italians surrender.\\r\\nback at the barrack room, watson concludes his story as the bugle sounds for dinner.[3]'"
     },
     "execution_count": 68,
     "metadata": {},
     "output_type": "execute_result"
    }
   ],
   "source": [
    "df_oh_cleared['Plot'][18649]"
   ],
   "metadata": {
    "collapsed": false,
    "ExecuteTime": {
     "end_time": "2024-03-30T14:43:49.412145Z",
     "start_time": "2024-03-30T14:43:49.409657Z"
    }
   },
   "id": "5944506ae37e130a",
   "execution_count": 68
  },
  {
   "cell_type": "markdown",
   "source": [
    "I can see that the function works correctly. However, translation of one plot took almost a minute. "
   ],
   "metadata": {
    "collapsed": false
   },
   "id": "fb1719fce81fcda2"
  },
  {
   "cell_type": "code",
   "outputs": [
    {
     "data": {
      "text/plain": "count    27802.000000\nmean       386.423027\nstd        312.956577\nmin          2.000000\n25%        128.000000\n50%        311.000000\n75%        602.000000\nmax       5272.000000\nName: Plot, dtype: float64"
     },
     "execution_count": 69,
     "metadata": {},
     "output_type": "execute_result"
    }
   ],
   "source": [
    "# calculate the distribution of length of the plots (words)\n",
    "df_oh_cleared['Plot'].apply(lambda x: len(x.split())).describe()"
   ],
   "metadata": {
    "collapsed": false,
    "ExecuteTime": {
     "end_time": "2024-03-30T14:43:49.775701Z",
     "start_time": "2024-03-30T14:43:49.412889Z"
    }
   },
   "id": "4eb70b62c98d22db",
   "execution_count": 69
  },
  {
   "cell_type": "markdown",
   "source": [
    "\n",
    "##### Translation rejection\n",
    "I can see that plots are quite long (up to 5000 words). For my oversampling I decided to use only synonym replacement in order to save time. The part with back translation is commented out. However It works, and if you have computational resources, you can use it by uncommenting the code."
   ],
   "metadata": {
    "collapsed": false
   },
   "id": "ce1e505740d3d0c0"
  },
  {
   "cell_type": "markdown",
   "source": [
    "#### Applying transformations"
   ],
   "metadata": {
    "collapsed": false
   },
   "id": "91f1a1a5ed2eb8b7"
  },
  {
   "cell_type": "code",
   "outputs": [
    {
     "data": {
      "text/plain": "[('adventure', 692, 2),\n ('biography', 243, 5),\n ('family', 517, 2),\n ('fantasy', 438, 3),\n ('historical', 186, 6),\n ('martial arts', 83, 13),\n ('musical', 754, 2),\n ('mystery', 385, 3),\n ('noir', 299, 4),\n ('romantic', 557, 2),\n ('social', 178, 6),\n ('sports', 100, 10),\n ('spy', 118, 9),\n ('suspense', 131, 8),\n ('war', 500, 2),\n ('western', 756, 2),\n ('world', 82, 13),\n ('science fiction', 776, 2)]"
     },
     "execution_count": 70,
     "metadata": {},
     "output_type": "execute_result"
    }
   ],
   "source": [
    "# Find minority classes (less than 1000 samples)\n",
    "l = []\n",
    "for genre, num_samples in genre_counts_train.items():\n",
    "    if num_samples < 1000:  # Only duplicate samples for minority classes\n",
    "        factor = duplication_factor(num_samples) \n",
    "        l.append((genre, num_samples, factor))\n",
    "l"
   ],
   "metadata": {
    "collapsed": false,
    "ExecuteTime": {
     "end_time": "2024-03-30T14:43:49.780281Z",
     "start_time": "2024-03-30T14:43:49.776523Z"
    }
   },
   "id": "9875cef503a7f167",
   "execution_count": 70
  },
  {
   "cell_type": "code",
   "outputs": [],
   "source": [
    "# combine X_train and y_train for easier manipulation\n",
    "train_data = pd.concat([X_train, y_train], axis=1)\n",
    "\n",
    "# create placeholder for oversampled data\n",
    "oversampled_data = pd.DataFrame(columns=train_data.columns)\n",
    "\n",
    "for genre, num_samples in genre_counts_train.items():\n",
    "    if num_samples < 1000:  # Only duplicate samples for minority classes\n",
    "        factor = duplication_factor(num_samples) \n",
    "    \n",
    "        # Find indices of movies belonging to the current genre\n",
    "        genre_indices = y_train[y_train[genre] == 1].index\n",
    "        temp_data = train_data.loc[genre_indices].copy()\n",
    "        for _ in range(factor - 1):\n",
    "            # Make a copy with transformations \n",
    "            transformed_data = temp_data.copy()\n",
    "            transformed_data['Plot'] = transformed_data['Plot'].apply(lambda x: synonym_replacement(x))\n",
    "            \n",
    "            \n",
    "            # Apply back translation depending on the length of the text\n",
    "            # if len(transformed_data['Plot'].iloc[0]) > 512:\n",
    "            #     transformed_data['Plot'] = transformed_data['Plot'].apply(lambda x: process_long_text(x))\n",
    "            # else:\n",
    "            #     transformed_data['Plot'] = transformed_data['Plot'].apply(lambda x: back_translate(x, translate_to_intermediate_pipeline, translate_back_to_src_pipeline))\n",
    "                \n",
    "                \n",
    "            # make the text lowercase\n",
    "            transformed_data['Plot'] = transformed_data['Plot'].str.lower()\n",
    "            oversampled_data = pd.concat([oversampled_data, transformed_data], ignore_index=True)"
   ],
   "metadata": {
    "collapsed": false,
    "ExecuteTime": {
     "end_time": "2024-03-30T14:44:02.527167Z",
     "start_time": "2024-03-30T14:43:49.780956Z"
    }
   },
   "id": "3811297f4c7c696f",
   "execution_count": 71
  },
  {
   "cell_type": "code",
   "outputs": [
    {
     "data": {
      "text/plain": "((14628, 26), (22241, 26))"
     },
     "execution_count": 72,
     "metadata": {},
     "output_type": "execute_result"
    }
   ],
   "source": [
    "# check the shape of the oversampled data\n",
    "oversampled_data.shape, train_data.shape"
   ],
   "metadata": {
    "collapsed": false,
    "ExecuteTime": {
     "end_time": "2024-03-30T14:44:02.532775Z",
     "start_time": "2024-03-30T14:44:02.528642Z"
    }
   },
   "id": "28b091c61013cf23",
   "execution_count": 72
  },
  {
   "cell_type": "code",
   "outputs": [],
   "source": [
    "from sklearn.utils import shuffle\n",
    "\n",
    "# # Combine all oversampled data together\n",
    "# oversampled_data = pd.concat(oversampled_data, ignore_index=True)\n",
    "\n",
    "# Add the original data to ensure it's represented in the oversampled dataset\n",
    "oversampled_data = pd.concat([oversampled_data, train_data], ignore_index=True)\n",
    "\n",
    "# Shuffle the dataset to mix original and oversampled data\n",
    "oversampled_data = shuffle(oversampled_data, random_state=42)\n",
    "\n",
    "# Split the oversampled data back into features and labels\n",
    "X_train_oversampled = oversampled_data['Plot']\n",
    "y_train_oversampled = oversampled_data[y_train.columns]"
   ],
   "metadata": {
    "collapsed": false,
    "ExecuteTime": {
     "end_time": "2024-03-30T14:44:02.569899Z",
     "start_time": "2024-03-30T14:44:02.533781Z"
    }
   },
   "id": "a990ca52866734ca",
   "execution_count": 73
  },
  {
   "cell_type": "code",
   "outputs": [
    {
     "data": {
      "text/plain": "((36869,), (36869, 25))"
     },
     "execution_count": 74,
     "metadata": {},
     "output_type": "execute_result"
    }
   ],
   "source": [
    "X_train_oversampled.shape, y_train_oversampled.shape"
   ],
   "metadata": {
    "collapsed": false,
    "ExecuteTime": {
     "end_time": "2024-03-30T14:44:02.573966Z",
     "start_time": "2024-03-30T14:44:02.570654Z"
    }
   },
   "id": "16344796620b6a22",
   "execution_count": 74
  },
  {
   "cell_type": "code",
   "outputs": [
    {
     "data": {
      "text/plain": "sports          1029\nsuspense        1056\nmartial arts    1104\nsocial          1115\nspy             1143\ndtype: object"
     },
     "execution_count": 75,
     "metadata": {},
     "output_type": "execute_result"
    }
   ],
   "source": [
    "y_train_oversampled.sum().sort_values()[:5]"
   ],
   "metadata": {
    "collapsed": false,
    "ExecuteTime": {
     "end_time": "2024-03-30T14:44:02.607448Z",
     "start_time": "2024-03-30T14:44:02.574619Z"
    }
   },
   "id": "86981cb6d591060c",
   "execution_count": 75
  },
  {
   "cell_type": "code",
   "outputs": [],
   "source": [
    "# convert the labels to numpy array, without this the model will not fit\n",
    "y_train_oversampled_np = np.array(y_train_oversampled).astype('float32')"
   ],
   "metadata": {
    "collapsed": false,
    "ExecuteTime": {
     "end_time": "2024-03-30T14:44:02.633727Z",
     "start_time": "2024-03-30T14:44:02.608410Z"
    }
   },
   "id": "2da137ea0653c91d",
   "execution_count": 76
  },
  {
   "cell_type": "markdown",
   "source": [
    "### Model 1 with oversampling"
   ],
   "metadata": {
    "collapsed": false
   },
   "id": "227c7c8323cc6694"
  },
  {
   "cell_type": "markdown",
   "source": [
    "I will replicate the model with the embedding layer and train it on the oversampled data."
   ],
   "metadata": {
    "collapsed": false
   },
   "id": "f50eea4dff54c5be"
  },
  {
   "cell_type": "code",
   "outputs": [],
   "source": [
    "# Create the TextVectorization layer\n",
    "vectorize_layer = layers.TextVectorization(max_tokens=adj_vocab_size, output_sequence_length=output_seq_len)\n",
    "# Adapt it to the training oversampled data\n",
    "vectorize_layer.adapt(np.array(X_train_oversampled, dtype=str))"
   ],
   "metadata": {
    "collapsed": false,
    "ExecuteTime": {
     "end_time": "2024-03-30T14:44:09.926517Z",
     "start_time": "2024-03-30T14:44:02.634671Z"
    }
   },
   "id": "dfdb8d5ce2c5cfe8",
   "execution_count": 77
  },
  {
   "cell_type": "code",
   "outputs": [],
   "source": [
    "model_2 = tf.keras.Sequential([\n",
    "    vectorize_layer,\n",
    "    layers.Embedding(input_dim=adj_vocab_size + 1, output_dim=128),\n",
    "    layers.GlobalAveragePooling1D(),\n",
    "    layers.Dense(128, activation='relu'),\n",
    "    layers.Dense(y_train_oversampled.shape[1], activation='sigmoid')\n",
    "])"
   ],
   "metadata": {
    "collapsed": false,
    "ExecuteTime": {
     "end_time": "2024-03-30T14:44:09.935192Z",
     "start_time": "2024-03-30T14:44:09.928082Z"
    }
   },
   "id": "44bf77c6cfae6527",
   "execution_count": 78
  },
  {
   "cell_type": "code",
   "outputs": [],
   "source": [
    "model_2.compile(loss='binary_crossentropy', optimizer='adam', metrics=['accuracy'])"
   ],
   "metadata": {
    "collapsed": false,
    "ExecuteTime": {
     "end_time": "2024-03-30T14:44:09.941257Z",
     "start_time": "2024-03-30T14:44:09.936073Z"
    }
   },
   "id": "eeda0cafdc258488",
   "execution_count": 79
  },
  {
   "cell_type": "code",
   "outputs": [
    {
     "name": "stdout",
     "output_type": "stream",
     "text": [
      "Epoch 1/10\n",
      "\u001B[1m1153/1153\u001B[0m \u001B[32m━━━━━━━━━━━━━━━━━━━━\u001B[0m\u001B[37m\u001B[0m \u001B[1m11s\u001B[0m 9ms/step - accuracy: 0.2041 - loss: 0.2236 - val_accuracy: 0.2845 - val_loss: 0.1572\n",
      "Epoch 2/10\n",
      "\u001B[1m1153/1153\u001B[0m \u001B[32m━━━━━━━━━━━━━━━━━━━━\u001B[0m\u001B[37m\u001B[0m \u001B[1m10s\u001B[0m 9ms/step - accuracy: 0.2569 - loss: 0.1859 - val_accuracy: 0.3244 - val_loss: 0.1481\n",
      "Epoch 3/10\n",
      "\u001B[1m1153/1153\u001B[0m \u001B[32m━━━━━━━━━━━━━━━━━━━━\u001B[0m\u001B[37m\u001B[0m \u001B[1m10s\u001B[0m 8ms/step - accuracy: 0.3220 - loss: 0.1626 - val_accuracy: 0.3595 - val_loss: 0.1395\n",
      "Epoch 4/10\n",
      "\u001B[1m1153/1153\u001B[0m \u001B[32m━━━━━━━━━━━━━━━━━━━━\u001B[0m\u001B[37m\u001B[0m \u001B[1m10s\u001B[0m 9ms/step - accuracy: 0.3819 - loss: 0.1418 - val_accuracy: 0.3888 - val_loss: 0.1369\n",
      "Epoch 5/10\n",
      "\u001B[1m1153/1153\u001B[0m \u001B[32m━━━━━━━━━━━━━━━━━━━━\u001B[0m\u001B[37m\u001B[0m \u001B[1m10s\u001B[0m 9ms/step - accuracy: 0.4417 - loss: 0.1255 - val_accuracy: 0.4586 - val_loss: 0.1316\n",
      "Epoch 6/10\n",
      "\u001B[1m1153/1153\u001B[0m \u001B[32m━━━━━━━━━━━━━━━━━━━━\u001B[0m\u001B[37m\u001B[0m \u001B[1m10s\u001B[0m 8ms/step - accuracy: 0.4896 - loss: 0.1118 - val_accuracy: 0.4145 - val_loss: 0.1266\n",
      "Epoch 7/10\n",
      "\u001B[1m1153/1153\u001B[0m \u001B[32m━━━━━━━━━━━━━━━━━━━━\u001B[0m\u001B[37m\u001B[0m \u001B[1m10s\u001B[0m 9ms/step - accuracy: 0.5229 - loss: 0.1017 - val_accuracy: 0.4573 - val_loss: 0.1286\n",
      "Epoch 8/10\n",
      "\u001B[1m1153/1153\u001B[0m \u001B[32m━━━━━━━━━━━━━━━━━━━━\u001B[0m\u001B[37m\u001B[0m \u001B[1m10s\u001B[0m 9ms/step - accuracy: 0.5499 - loss: 0.0916 - val_accuracy: 0.4132 - val_loss: 0.1339\n",
      "Epoch 9/10\n",
      "\u001B[1m1153/1153\u001B[0m \u001B[32m━━━━━━━━━━━━━━━━━━━━\u001B[0m\u001B[37m\u001B[0m \u001B[1m10s\u001B[0m 8ms/step - accuracy: 0.5614 - loss: 0.0866 - val_accuracy: 0.4217 - val_loss: 0.1368\n",
      "Epoch 10/10\n",
      "\u001B[1m1153/1153\u001B[0m \u001B[32m━━━━━━━━━━━━━━━━━━━━\u001B[0m\u001B[37m\u001B[0m \u001B[1m10s\u001B[0m 9ms/step - accuracy: 0.5790 - loss: 0.0797 - val_accuracy: 0.3954 - val_loss: 0.1608\n"
     ]
    },
    {
     "data": {
      "text/plain": "<keras.src.callbacks.history.History at 0x361d7bd00>"
     },
     "execution_count": 80,
     "metadata": {},
     "output_type": "execute_result"
    }
   ],
   "source": [
    "model_2.fit(X_train_oversampled, y_train_oversampled_np, epochs=10, batch_size=32, validation_data=(X_test, y_test))"
   ],
   "metadata": {
    "collapsed": false,
    "ExecuteTime": {
     "end_time": "2024-03-30T14:45:50.421297Z",
     "start_time": "2024-03-30T14:44:09.942012Z"
    }
   },
   "id": "784d7b2122fa765d",
   "execution_count": 80
  },
  {
   "cell_type": "code",
   "outputs": [
    {
     "name": "stdout",
     "output_type": "stream",
     "text": [
      "\u001B[1m174/174\u001B[0m \u001B[32m━━━━━━━━━━━━━━━━━━━━\u001B[0m\u001B[37m\u001B[0m \u001B[1m1s\u001B[0m 4ms/step\n"
     ]
    }
   ],
   "source": [
    "y_pred = model_2.predict(X_test)"
   ],
   "metadata": {
    "collapsed": false,
    "ExecuteTime": {
     "end_time": "2024-03-30T14:45:51.175864Z",
     "start_time": "2024-03-30T14:45:50.422659Z"
    }
   },
   "id": "b4f5acc58eef1c80",
   "execution_count": 81
  },
  {
   "cell_type": "code",
   "outputs": [],
   "source": [
    "y_pred = (y_pred > 0.5).astype(int)"
   ],
   "metadata": {
    "collapsed": false,
    "ExecuteTime": {
     "end_time": "2024-03-30T14:45:51.190185Z",
     "start_time": "2024-03-30T14:45:51.187810Z"
    }
   },
   "id": "af19751094d8db6b",
   "execution_count": 82
  },
  {
   "cell_type": "code",
   "outputs": [
    {
     "data": {
      "text/plain": "0.28304261823413057"
     },
     "execution_count": 83,
     "metadata": {},
     "output_type": "execute_result"
    }
   ],
   "source": [
    "accuracy_score(y_test, y_pred)"
   ],
   "metadata": {
    "collapsed": false,
    "ExecuteTime": {
     "end_time": "2024-03-30T14:45:51.201200Z",
     "start_time": "2024-03-30T14:45:51.191228Z"
    }
   },
   "id": "2f1fe3731d2fa37c",
   "execution_count": 83
  },
  {
   "cell_type": "code",
   "outputs": [
    {
     "name": "stdout",
     "output_type": "stream",
     "text": [
      "                 precision    recall  f1-score   support\n",
      "\n",
      "         action       0.61      0.23      0.33       499\n",
      "      adventure       0.33      0.16      0.22       174\n",
      "      biography       1.00      0.05      0.09        63\n",
      "         comedy       0.73      0.18      0.29      1473\n",
      "          crime       0.49      0.08      0.13       312\n",
      "          drama       0.42      0.91      0.57      1877\n",
      "         family       0.17      0.04      0.07       116\n",
      "        fantasy       0.38      0.21      0.27       109\n",
      "     historical       0.17      0.42      0.24        38\n",
      "         horror       0.73      0.47      0.57       337\n",
      "   martial arts       0.80      0.15      0.25        27\n",
      "        musical       0.56      0.25      0.35       193\n",
      "        mystery       0.35      0.25      0.29        96\n",
      "           noir       0.30      0.05      0.09        59\n",
      "        romance       0.43      0.35      0.39       391\n",
      "       romantic       0.10      0.01      0.02       123\n",
      "         social       0.18      0.20      0.19        45\n",
      "         sports       0.25      0.05      0.09        19\n",
      "            spy       0.50      0.04      0.07        25\n",
      "       suspense       0.00      0.00      0.00        31\n",
      "       thriller       0.40      0.20      0.27       337\n",
      "            war       0.61      0.56      0.58       109\n",
      "        western       0.91      0.43      0.58       218\n",
      "          world       0.50      0.15      0.23        20\n",
      "science fiction       0.81      0.34      0.48       175\n",
      "\n",
      "      micro avg       0.46      0.42      0.44      6866\n",
      "      macro avg       0.47      0.23      0.27      6866\n",
      "   weighted avg       0.54      0.42      0.38      6866\n",
      "    samples avg       0.43      0.42      0.41      6866\n"
     ]
    },
    {
     "name": "stderr",
     "output_type": "stream",
     "text": [
      "/Users/alexeyks/PycharmProjects/moviesml/.venv/lib/python3.10/site-packages/sklearn/metrics/_classification.py:1509: UndefinedMetricWarning: Precision is ill-defined and being set to 0.0 in samples with no predicted labels. Use `zero_division` parameter to control this behavior.\n",
      "  _warn_prf(average, modifier, f\"{metric.capitalize()} is\", len(result))\n",
      "/Users/alexeyks/PycharmProjects/moviesml/.venv/lib/python3.10/site-packages/sklearn/metrics/_classification.py:1509: UndefinedMetricWarning: Recall is ill-defined and being set to 0.0 in samples with no true labels. Use `zero_division` parameter to control this behavior.\n",
      "  _warn_prf(average, modifier, f\"{metric.capitalize()} is\", len(result))\n",
      "/Users/alexeyks/PycharmProjects/moviesml/.venv/lib/python3.10/site-packages/sklearn/metrics/_classification.py:1509: UndefinedMetricWarning: F-score is ill-defined and being set to 0.0 in samples with no true nor predicted labels. Use `zero_division` parameter to control this behavior.\n",
      "  _warn_prf(average, modifier, f\"{metric.capitalize()} is\", len(result))\n"
     ]
    }
   ],
   "source": [
    "print(classification_report(y_test, y_pred, target_names=y.columns))"
   ],
   "metadata": {
    "collapsed": false,
    "ExecuteTime": {
     "end_time": "2024-03-30T14:45:51.214945Z",
     "start_time": "2024-03-30T14:45:51.202447Z"
    }
   },
   "id": "3d0a6ac40ebad6d7",
   "execution_count": 84
  },
  {
   "cell_type": "markdown",
   "source": [
    "The accuracy is higher than the previous models, but it is still not very high. I will try to use LSTM model to improve the results."
   ],
   "metadata": {
    "collapsed": false
   },
   "id": "612ebb50e9319b0d"
  },
  {
   "cell_type": "markdown",
   "source": [
    "### LSTM model\n",
    "At this point I want to try to make more complex model using LSTM layer. I will use Sequential Keras API to create the model. Training the model will take a lot of time, so I will use only 10% of the data for training."
   ],
   "metadata": {
    "collapsed": false
   },
   "id": "bcd7a0ef451884a3"
  },
  {
   "cell_type": "code",
   "outputs": [],
   "source": [
    "X_train_10, _, y_train_10, _ = train_test_split(X_train_oversampled, y_train_oversampled, test_size=0.9, random_state=42)\n",
    "\n",
    "X_train_10.shape, y_train_10.shape"
   ],
   "metadata": {
    "collapsed": false
   },
   "id": "dcbcad7e0eca84db"
  },
  {
   "cell_type": "code",
   "outputs": [
    {
     "data": {
      "text/plain": "((556,), (556, 25))"
     },
     "execution_count": 192,
     "metadata": {},
     "output_type": "execute_result"
    }
   ],
   "source": [
    "X_test_10, _, y_test_10, _ = train_test_split(X_test, y_test, test_size=0.9, random_state=42)\n",
    "\n",
    "X_test_10.shape, y_test_10.shape"
   ],
   "metadata": {
    "collapsed": false,
    "ExecuteTime": {
     "end_time": "2024-03-30T20:28:58.187064Z",
     "start_time": "2024-03-30T20:28:58.142627Z"
    }
   },
   "id": "ad49ed0a2ccd64d0",
   "execution_count": 192
  },
  {
   "cell_type": "code",
   "outputs": [],
   "source": [
    "y_train_10_np = np.array(y_train_10).astype('float32')\n",
    "y_test_np = np.array(y_test).astype('float32')\n",
    "y_train_10_np.shape, y_test_np.shape"
   ],
   "metadata": {
    "collapsed": false
   },
   "id": "8c125bbb989c7bd6"
  },
  {
   "cell_type": "code",
   "outputs": [
    {
     "data": {
      "text/plain": "(556, 25)"
     },
     "execution_count": 198,
     "metadata": {},
     "output_type": "execute_result"
    }
   ],
   "source": [
    "y_test_10_np = np.array(y_test_10).astype('float32')\n",
    "y_test_10_np.shape"
   ],
   "metadata": {
    "collapsed": false,
    "ExecuteTime": {
     "end_time": "2024-03-30T20:31:15.780075Z",
     "start_time": "2024-03-30T20:31:15.771880Z"
    }
   },
   "id": "a6aa38827cabde1a",
   "execution_count": 198
  },
  {
   "cell_type": "code",
   "outputs": [],
   "source": [
    "# Create the TextVectorization layer\n",
    "vectorize_layer = layers.TextVectorization(max_tokens=adj_vocab_size, output_sequence_length=output_seq_len)\n",
    "# Adapt it to the training oversampled data\n",
    "vectorize_layer.adapt(np.array(X_train_10, dtype=str))"
   ],
   "metadata": {
    "collapsed": false
   },
   "id": "1f4e0dfcd5eb68f1"
  },
  {
   "cell_type": "code",
   "outputs": [],
   "source": [
    "from tensorflow.keras import layers, Model, Input\n",
    "\n",
    "# use sequential API\n",
    "model_3 = tf.keras.Sequential([\n",
    "    vectorize_layer,\n",
    "    layers.Embedding(input_dim=adj_vocab_size + 1, output_dim=128),\n",
    "    layers.Bidirectional(layers.LSTM(128)),\n",
    "    layers.Dense(128, activation='relu'),\n",
    "    layers.Dense(y_train_oversampled.shape[1], activation='sigmoid')\n",
    "])"
   ],
   "metadata": {
    "collapsed": false,
    "ExecuteTime": {
     "end_time": "2024-03-30T17:16:39.403926Z",
     "start_time": "2024-03-30T17:16:39.296042Z"
    }
   },
   "id": "e61127dc3aa14e40",
   "execution_count": 159
  },
  {
   "cell_type": "code",
   "outputs": [
    {
     "data": {
      "text/plain": "\u001B[1mModel: \"sequential_2\"\u001B[0m\n",
      "text/html": "<pre style=\"white-space:pre;overflow-x:auto;line-height:normal;font-family:Menlo,'DejaVu Sans Mono',consolas,'Courier New',monospace\"><span style=\"font-weight: bold\">Model: \"sequential_2\"</span>\n</pre>\n"
     },
     "metadata": {},
     "output_type": "display_data"
    },
    {
     "data": {
      "text/plain": "┏━━━━━━━━━━━━━━━━━━━━━━━━━━━━━━━━━┳━━━━━━━━━━━━━━━━━━━━━━━━┳━━━━━━━━━━━━━━━┓\n┃\u001B[1m \u001B[0m\u001B[1mLayer (type)                   \u001B[0m\u001B[1m \u001B[0m┃\u001B[1m \u001B[0m\u001B[1mOutput Shape          \u001B[0m\u001B[1m \u001B[0m┃\u001B[1m \u001B[0m\u001B[1m      Param #\u001B[0m\u001B[1m \u001B[0m┃\n┡━━━━━━━━━━━━━━━━━━━━━━━━━━━━━━━━━╇━━━━━━━━━━━━━━━━━━━━━━━━╇━━━━━━━━━━━━━━━┩\n│ text_vectorization_1            │ (\u001B[38;5;45mNone\u001B[0m, \u001B[38;5;34m918\u001B[0m)            │             \u001B[38;5;34m0\u001B[0m │\n│ (\u001B[38;5;33mTextVectorization\u001B[0m)             │                        │               │\n├─────────────────────────────────┼────────────────────────┼───────────────┤\n│ embedding_2 (\u001B[38;5;33mEmbedding\u001B[0m)         │ ?                      │   \u001B[38;5;34m0\u001B[0m (unbuilt) │\n├─────────────────────────────────┼────────────────────────┼───────────────┤\n│ bidirectional_1 (\u001B[38;5;33mBidirectional\u001B[0m) │ ?                      │   \u001B[38;5;34m0\u001B[0m (unbuilt) │\n├─────────────────────────────────┼────────────────────────┼───────────────┤\n│ dense_4 (\u001B[38;5;33mDense\u001B[0m)                 │ ?                      │   \u001B[38;5;34m0\u001B[0m (unbuilt) │\n├─────────────────────────────────┼────────────────────────┼───────────────┤\n│ dense_5 (\u001B[38;5;33mDense\u001B[0m)                 │ ?                      │   \u001B[38;5;34m0\u001B[0m (unbuilt) │\n└─────────────────────────────────┴────────────────────────┴───────────────┘\n",
      "text/html": "<pre style=\"white-space:pre;overflow-x:auto;line-height:normal;font-family:Menlo,'DejaVu Sans Mono',consolas,'Courier New',monospace\">┏━━━━━━━━━━━━━━━━━━━━━━━━━━━━━━━━━┳━━━━━━━━━━━━━━━━━━━━━━━━┳━━━━━━━━━━━━━━━┓\n┃<span style=\"font-weight: bold\"> Layer (type)                    </span>┃<span style=\"font-weight: bold\"> Output Shape           </span>┃<span style=\"font-weight: bold\">       Param # </span>┃\n┡━━━━━━━━━━━━━━━━━━━━━━━━━━━━━━━━━╇━━━━━━━━━━━━━━━━━━━━━━━━╇━━━━━━━━━━━━━━━┩\n│ text_vectorization_1            │ (<span style=\"color: #00d7ff; text-decoration-color: #00d7ff\">None</span>, <span style=\"color: #00af00; text-decoration-color: #00af00\">918</span>)            │             <span style=\"color: #00af00; text-decoration-color: #00af00\">0</span> │\n│ (<span style=\"color: #0087ff; text-decoration-color: #0087ff\">TextVectorization</span>)             │                        │               │\n├─────────────────────────────────┼────────────────────────┼───────────────┤\n│ embedding_2 (<span style=\"color: #0087ff; text-decoration-color: #0087ff\">Embedding</span>)         │ ?                      │   <span style=\"color: #00af00; text-decoration-color: #00af00\">0</span> (unbuilt) │\n├─────────────────────────────────┼────────────────────────┼───────────────┤\n│ bidirectional_1 (<span style=\"color: #0087ff; text-decoration-color: #0087ff\">Bidirectional</span>) │ ?                      │   <span style=\"color: #00af00; text-decoration-color: #00af00\">0</span> (unbuilt) │\n├─────────────────────────────────┼────────────────────────┼───────────────┤\n│ dense_4 (<span style=\"color: #0087ff; text-decoration-color: #0087ff\">Dense</span>)                 │ ?                      │   <span style=\"color: #00af00; text-decoration-color: #00af00\">0</span> (unbuilt) │\n├─────────────────────────────────┼────────────────────────┼───────────────┤\n│ dense_5 (<span style=\"color: #0087ff; text-decoration-color: #0087ff\">Dense</span>)                 │ ?                      │   <span style=\"color: #00af00; text-decoration-color: #00af00\">0</span> (unbuilt) │\n└─────────────────────────────────┴────────────────────────┴───────────────┘\n</pre>\n"
     },
     "metadata": {},
     "output_type": "display_data"
    },
    {
     "data": {
      "text/plain": "\u001B[1m Total params: \u001B[0m\u001B[38;5;34m0\u001B[0m (0.00 B)\n",
      "text/html": "<pre style=\"white-space:pre;overflow-x:auto;line-height:normal;font-family:Menlo,'DejaVu Sans Mono',consolas,'Courier New',monospace\"><span style=\"font-weight: bold\"> Total params: </span><span style=\"color: #00af00; text-decoration-color: #00af00\">0</span> (0.00 B)\n</pre>\n"
     },
     "metadata": {},
     "output_type": "display_data"
    },
    {
     "data": {
      "text/plain": "\u001B[1m Trainable params: \u001B[0m\u001B[38;5;34m0\u001B[0m (0.00 B)\n",
      "text/html": "<pre style=\"white-space:pre;overflow-x:auto;line-height:normal;font-family:Menlo,'DejaVu Sans Mono',consolas,'Courier New',monospace\"><span style=\"font-weight: bold\"> Trainable params: </span><span style=\"color: #00af00; text-decoration-color: #00af00\">0</span> (0.00 B)\n</pre>\n"
     },
     "metadata": {},
     "output_type": "display_data"
    },
    {
     "data": {
      "text/plain": "\u001B[1m Non-trainable params: \u001B[0m\u001B[38;5;34m0\u001B[0m (0.00 B)\n",
      "text/html": "<pre style=\"white-space:pre;overflow-x:auto;line-height:normal;font-family:Menlo,'DejaVu Sans Mono',consolas,'Courier New',monospace\"><span style=\"font-weight: bold\"> Non-trainable params: </span><span style=\"color: #00af00; text-decoration-color: #00af00\">0</span> (0.00 B)\n</pre>\n"
     },
     "metadata": {},
     "output_type": "display_data"
    }
   ],
   "source": [
    "# model_3.summary()"
   ],
   "metadata": {
    "collapsed": false,
    "ExecuteTime": {
     "end_time": "2024-03-30T17:16:40.394005Z",
     "start_time": "2024-03-30T17:16:40.383066Z"
    }
   },
   "id": "fd136333b03daa39",
   "execution_count": 160
  },
  {
   "cell_type": "code",
   "outputs": [],
   "source": [
    "model_3.compile(loss='binary_crossentropy', optimizer='adam', metrics=['accuracy'])"
   ],
   "metadata": {
    "collapsed": false,
    "ExecuteTime": {
     "end_time": "2024-03-30T17:16:58.396978Z",
     "start_time": "2024-03-30T17:16:58.387904Z"
    }
   },
   "id": "b608b6e90020f714",
   "execution_count": 161
  },
  {
   "cell_type": "code",
   "outputs": [
    {
     "name": "stdout",
     "output_type": "stream",
     "text": [
      "Epoch 1/5\n",
      "\u001B[1m116/116\u001B[0m \u001B[32m━━━━━━━━━━━━━━━━━━━━\u001B[0m\u001B[37m\u001B[0m \u001B[1m156s\u001B[0m 1s/step - accuracy: 0.1569 - loss: 0.3134 - val_accuracy: 0.2692 - val_loss: 0.1655\n",
      "Epoch 2/5\n",
      "\u001B[1m116/116\u001B[0m \u001B[32m━━━━━━━━━━━━━━━━━━━━\u001B[0m\u001B[37m\u001B[0m \u001B[1m178s\u001B[0m 2s/step - accuracy: 0.2259 - loss: 0.1984 - val_accuracy: 0.2687 - val_loss: 0.1630\n",
      "Epoch 3/5\n",
      "\u001B[1m116/116\u001B[0m \u001B[32m━━━━━━━━━━━━━━━━━━━━\u001B[0m\u001B[37m\u001B[0m \u001B[1m178s\u001B[0m 2s/step - accuracy: 0.2320 - loss: 0.1932 - val_accuracy: 0.2708 - val_loss: 0.1609\n",
      "Epoch 4/5\n",
      "\u001B[1m116/116\u001B[0m \u001B[32m━━━━━━━━━━━━━━━━━━━━\u001B[0m\u001B[37m\u001B[0m \u001B[1m186s\u001B[0m 2s/step - accuracy: 0.3225 - loss: 0.1710 - val_accuracy: 0.2910 - val_loss: 0.1612\n",
      "Epoch 5/5\n",
      "\u001B[1m116/116\u001B[0m \u001B[32m━━━━━━━━━━━━━━━━━━━━\u001B[0m\u001B[37m\u001B[0m \u001B[1m233s\u001B[0m 2s/step - accuracy: 0.4545 - loss: 0.1386 - val_accuracy: 0.2728 - val_loss: 0.1723\n"
     ]
    },
    {
     "data": {
      "text/plain": "<keras.src.callbacks.history.History at 0x3642679d0>"
     },
     "execution_count": 164,
     "metadata": {},
     "output_type": "execute_result"
    }
   ],
   "source": [
    "model_3.fit(X_train_10, y_train_10_np, epochs=5, batch_size=32, validation_data=(X_test, y_test_np))"
   ],
   "metadata": {
    "collapsed": false,
    "ExecuteTime": {
     "end_time": "2024-03-30T17:32:31.411597Z",
     "start_time": "2024-03-30T17:17:00.874040Z"
    }
   },
   "id": "4211669f80847a18",
   "execution_count": 164
  },
  {
   "cell_type": "code",
   "outputs": [
    {
     "name": "stdout",
     "output_type": "stream",
     "text": [
      "\u001B[1m174/174\u001B[0m \u001B[32m━━━━━━━━━━━━━━━━━━━━\u001B[0m\u001B[37m\u001B[0m \u001B[1m64s\u001B[0m 366ms/step\n"
     ]
    }
   ],
   "source": [
    "y_pred = model_3.predict(X_test)"
   ],
   "metadata": {
    "collapsed": false,
    "ExecuteTime": {
     "end_time": "2024-03-30T17:33:35.399925Z",
     "start_time": "2024-03-30T17:32:31.431901Z"
    }
   },
   "id": "2043965a627fd7bc",
   "execution_count": 165
  },
  {
   "cell_type": "code",
   "outputs": [],
   "source": [
    "y_pred = (y_pred > 0.5).astype(int)"
   ],
   "metadata": {
    "collapsed": false,
    "ExecuteTime": {
     "end_time": "2024-03-30T17:33:35.405665Z",
     "start_time": "2024-03-30T17:33:35.401925Z"
    }
   },
   "id": "e68c7b34245ce446",
   "execution_count": 166
  },
  {
   "cell_type": "code",
   "outputs": [
    {
     "data": {
      "text/plain": "0.13900377629922675"
     },
     "execution_count": 167,
     "metadata": {},
     "output_type": "execute_result"
    }
   ],
   "source": [
    "accuracy_score(y_test, y_pred)"
   ],
   "metadata": {
    "collapsed": false,
    "ExecuteTime": {
     "end_time": "2024-03-30T17:33:35.423184Z",
     "start_time": "2024-03-30T17:33:35.408709Z"
    }
   },
   "id": "37bc5ddbc6c43656",
   "execution_count": 167
  },
  {
   "cell_type": "code",
   "outputs": [
    {
     "name": "stdout",
     "output_type": "stream",
     "text": [
      "                 precision    recall  f1-score   support\n",
      "\n",
      "         action       0.50      0.00      0.00       499\n",
      "      adventure       0.00      0.00      0.00       174\n",
      "      biography       0.00      0.00      0.00        63\n",
      "         comedy       0.40      0.26      0.32      1473\n",
      "          crime       0.00      0.00      0.00       312\n",
      "          drama       0.42      0.31      0.36      1877\n",
      "         family       0.00      0.00      0.00       116\n",
      "        fantasy       0.00      0.00      0.00       109\n",
      "     historical       0.05      0.03      0.04        38\n",
      "         horror       0.00      0.00      0.00       337\n",
      "   martial arts       0.00      0.00      0.00        27\n",
      "        musical       0.00      0.00      0.00       193\n",
      "        mystery       0.00      0.00      0.00        96\n",
      "           noir       0.00      0.00      0.00        59\n",
      "        romance       0.56      0.01      0.03       391\n",
      "       romantic       0.00      0.00      0.00       123\n",
      "         social       0.00      0.00      0.00        45\n",
      "         sports       0.00      0.00      0.00        19\n",
      "            spy       0.00      0.00      0.00        25\n",
      "       suspense       0.00      0.00      0.00        31\n",
      "       thriller       0.00      0.00      0.00       337\n",
      "            war       0.55      0.28      0.38       109\n",
      "        western       0.00      0.00      0.00       218\n",
      "          world       0.67      0.10      0.17        20\n",
      "science fiction       0.43      0.07      0.12       175\n",
      "\n",
      "      micro avg       0.41      0.15      0.22      6866\n",
      "      macro avg       0.14      0.04      0.06      6866\n",
      "   weighted avg       0.29      0.15      0.18      6866\n",
      "    samples avg       0.17      0.15      0.16      6866\n"
     ]
    },
    {
     "name": "stderr",
     "output_type": "stream",
     "text": [
      "/Users/alexeyks/PycharmProjects/moviesml/.venv/lib/python3.10/site-packages/sklearn/metrics/_classification.py:1509: UndefinedMetricWarning: Precision is ill-defined and being set to 0.0 in labels with no predicted samples. Use `zero_division` parameter to control this behavior.\n",
      "  _warn_prf(average, modifier, f\"{metric.capitalize()} is\", len(result))\n",
      "/Users/alexeyks/PycharmProjects/moviesml/.venv/lib/python3.10/site-packages/sklearn/metrics/_classification.py:1509: UndefinedMetricWarning: Precision is ill-defined and being set to 0.0 in samples with no predicted labels. Use `zero_division` parameter to control this behavior.\n",
      "  _warn_prf(average, modifier, f\"{metric.capitalize()} is\", len(result))\n",
      "/Users/alexeyks/PycharmProjects/moviesml/.venv/lib/python3.10/site-packages/sklearn/metrics/_classification.py:1509: UndefinedMetricWarning: Recall is ill-defined and being set to 0.0 in samples with no true labels. Use `zero_division` parameter to control this behavior.\n",
      "  _warn_prf(average, modifier, f\"{metric.capitalize()} is\", len(result))\n",
      "/Users/alexeyks/PycharmProjects/moviesml/.venv/lib/python3.10/site-packages/sklearn/metrics/_classification.py:1509: UndefinedMetricWarning: F-score is ill-defined and being set to 0.0 in samples with no true nor predicted labels. Use `zero_division` parameter to control this behavior.\n",
      "  _warn_prf(average, modifier, f\"{metric.capitalize()} is\", len(result))\n"
     ]
    }
   ],
   "source": [
    "print(classification_report(y_test, y_pred, target_names=y.columns))"
   ],
   "metadata": {
    "collapsed": false,
    "ExecuteTime": {
     "end_time": "2024-03-30T17:33:35.443285Z",
     "start_time": "2024-03-30T17:33:35.424178Z"
    }
   },
   "id": "80ac5c61d77e6760",
   "execution_count": 168
  },
  {
   "cell_type": "markdown",
   "source": [
    "Model 3 has worse performance than previous models, I suppose the model architecture might not be the best for our goals. Another reason of poor performance - training only on a small subset of data, because of restricted computational resources."
   ],
   "metadata": {
    "collapsed": false
   },
   "id": "714d4a977321cf09"
  },
  {
   "cell_type": "markdown",
   "source": [
    "### Transfer learning. BERT"
   ],
   "metadata": {
    "collapsed": false
   },
   "id": "b50f63238f787edb"
  },
  {
   "cell_type": "markdown",
   "source": [
    "At the end I want to try to use BERT model for text classification. I will use the transformers library for this purpose."
   ],
   "metadata": {
    "collapsed": false
   },
   "id": "925b5ba1e92bb6a0"
  },
  {
   "cell_type": "code",
   "outputs": [
    {
     "name": "stderr",
     "output_type": "stream",
     "text": [
      "Some weights of the PyTorch model were not used when initializing the TF 2.0 model TFBertModel: ['cls.predictions.transform.LayerNorm.bias', 'cls.seq_relationship.weight', 'cls.predictions.transform.LayerNorm.weight', 'cls.predictions.bias', 'cls.seq_relationship.bias', 'cls.predictions.transform.dense.bias', 'cls.predictions.transform.dense.weight']\n",
      "- This IS expected if you are initializing TFBertModel from a PyTorch model trained on another task or with another architecture (e.g. initializing a TFBertForSequenceClassification model from a BertForPreTraining model).\n",
      "- This IS NOT expected if you are initializing TFBertModel from a PyTorch model that you expect to be exactly identical (e.g. initializing a TFBertForSequenceClassification model from a BertForSequenceClassification model).\n",
      "All the weights of TFBertModel were initialized from the PyTorch model.\n",
      "If your task is similar to the task the model of the checkpoint was trained on, you can already use TFBertModel for predictions without further training.\n"
     ]
    }
   ],
   "source": [
    "from transformers import BertTokenizer, TFBertModel\n",
    "\n",
    "model_name = 'bert-base-uncased'\n",
    "tokenizer = BertTokenizer.from_pretrained(model_name)\n",
    "bert = TFBertModel.from_pretrained(model_name)"
   ],
   "metadata": {
    "collapsed": false,
    "ExecuteTime": {
     "end_time": "2024-03-30T20:22:31.381474Z",
     "start_time": "2024-03-30T20:22:28.361549Z"
    }
   },
   "id": "b6a7bbccce8a3f86",
   "execution_count": 185
  },
  {
   "cell_type": "code",
   "outputs": [],
   "source": [
    "# Tokenize the text\n",
    "def encode_text(sentences, tokenizer, max_length=512):\n",
    "    input_ids = []\n",
    "    attention_masks = []\n",
    "    \n",
    "    for sent in sentences:\n",
    "        encoded_dict = tokenizer.encode_plus(\n",
    "            sent,                      # Sentence to encode\n",
    "            add_special_tokens=True,   # Add '[CLS]' and '[SEP]'\n",
    "            max_length=max_length,     # Pad or truncate\n",
    "            truncation=True,\n",
    "            padding='max_length',\n",
    "            return_attention_mask=True,# Construct attention masks\n",
    "            return_tensors='tf',       # Return TensorFlow tensors\n",
    "        )\n",
    "        \n",
    "        input_ids.append(encoded_dict['input_ids'])\n",
    "        attention_masks.append(encoded_dict['attention_mask'])\n",
    "    \n",
    "    # Convert lists to tensors\n",
    "    input_ids = tf.concat(input_ids, axis=0)\n",
    "    attention_masks = tf.concat(attention_masks, axis=0)\n",
    "\n",
    "    return input_ids, attention_masks"
   ],
   "metadata": {
    "collapsed": false,
    "ExecuteTime": {
     "end_time": "2024-03-30T19:42:21.015325Z",
     "start_time": "2024-03-30T19:42:20.994782Z"
    }
   },
   "id": "f179dc25460facf6",
   "execution_count": 171
  },
  {
   "cell_type": "code",
   "outputs": [],
   "source": [
    "X_train_encoded, X_train_attention = encode_text(X_train_10, tokenizer)\n",
    "X_test_encoded, X_test_attention = encode_text(X_test_10, tokenizer)"
   ],
   "metadata": {
    "collapsed": false,
    "ExecuteTime": {
     "end_time": "2024-03-30T20:29:31.387889Z",
     "start_time": "2024-03-30T20:29:12.360189Z"
    }
   },
   "id": "ab86b329e6db502a",
   "execution_count": 193
  },
  {
   "cell_type": "markdown",
   "source": [
    "**Building the model**"
   ],
   "metadata": {
    "collapsed": false
   },
   "id": "20bcc9e42795f9ca"
  },
  {
   "cell_type": "code",
   "outputs": [
    {
     "name": "stderr",
     "output_type": "stream",
     "text": [
      "Some weights of the PyTorch model were not used when initializing the TF 2.0 model TFBertModel: ['cls.predictions.transform.LayerNorm.bias', 'cls.seq_relationship.weight', 'cls.predictions.transform.LayerNorm.weight', 'cls.predictions.bias', 'cls.seq_relationship.bias', 'cls.predictions.transform.dense.bias', 'cls.predictions.transform.dense.weight']\n",
      "- This IS expected if you are initializing TFBertModel from a PyTorch model trained on another task or with another architecture (e.g. initializing a TFBertForSequenceClassification model from a BertForPreTraining model).\n",
      "- This IS NOT expected if you are initializing TFBertModel from a PyTorch model that you expect to be exactly identical (e.g. initializing a TFBertForSequenceClassification model from a BertForSequenceClassification model).\n",
      "All the weights of TFBertModel were initialized from the PyTorch model.\n",
      "If your task is similar to the task the model of the checkpoint was trained on, you can already use TFBertModel for predictions without further training.\n"
     ]
    }
   ],
   "source": [
    "import tensorflow as tf\n",
    "from transformers import TFBertModel\n",
    "from tensorflow.keras.layers import Input, Layer, Dense, Dropout\n",
    "\n",
    "class BertLayer(Layer):\n",
    "    def __init__(self, bert_model, **kwargs):\n",
    "        super(BertLayer, self).__init__(**kwargs)\n",
    "        self.bert = bert_model\n",
    "\n",
    "    def call(self, inputs):\n",
    "        input_ids, attention_mask = inputs\n",
    "        return self.bert(input_ids, attention_mask=attention_mask)[1]  # pooler_output\n",
    "\n",
    "# Instantiate BERT model\n",
    "bert_model = TFBertModel.from_pretrained('bert-base-uncased')\n",
    "\n",
    "# Define model inputs\n",
    "input_ids = Input(shape=(512,), dtype='int32', name='input_ids')\n",
    "attention_masks = Input(shape=(512,), dtype='int32', name='attention_masks')\n",
    "\n",
    "# Use the custom BertLayer\n",
    "bert_output = BertLayer(bert_model)([input_ids, attention_masks])\n",
    "\n",
    "# Additional layers\n",
    "dropout = Dropout(0.2)(bert_output)\n",
    "output = Dense(y_train_oversampled.shape[1], activation='sigmoid')(dropout)\n",
    "\n",
    "# Construct and compile the model\n",
    "model_bert = Model(inputs=[input_ids, attention_masks], outputs=output)\n",
    "model_bert.compile(optimizer='adam', loss='binary_crossentropy', metrics=['accuracy'])"
   ],
   "metadata": {
    "collapsed": false,
    "ExecuteTime": {
     "end_time": "2024-03-30T20:29:50.156474Z",
     "start_time": "2024-03-30T20:29:44.390299Z"
    }
   },
   "id": "1e65ebd31ac5faff",
   "execution_count": 195
  },
  {
   "cell_type": "code",
   "outputs": [],
   "source": [
    "model_bert.compile(loss='binary_crossentropy', optimizer='adam', metrics=['accuracy'])"
   ],
   "metadata": {
    "collapsed": false,
    "ExecuteTime": {
     "end_time": "2024-03-30T20:29:58.013652Z",
     "start_time": "2024-03-30T20:29:57.999995Z"
    }
   },
   "id": "15c06f0ba5e8fbc2",
   "execution_count": 196
  },
  {
   "cell_type": "code",
   "outputs": [
    {
     "data": {
      "text/plain": "\u001B[1mModel: \"functional_16\"\u001B[0m\n",
      "text/html": "<pre style=\"white-space:pre;overflow-x:auto;line-height:normal;font-family:Menlo,'DejaVu Sans Mono',consolas,'Courier New',monospace\"><span style=\"font-weight: bold\">Model: \"functional_16\"</span>\n</pre>\n"
     },
     "metadata": {},
     "output_type": "display_data"
    },
    {
     "data": {
      "text/plain": "┏━━━━━━━━━━━━━━━━━━━━━┳━━━━━━━━━━━━━━━━━━━┳━━━━━━━━━━━━┳━━━━━━━━━━━━━━━━━━━┓\n┃\u001B[1m \u001B[0m\u001B[1mLayer (type)       \u001B[0m\u001B[1m \u001B[0m┃\u001B[1m \u001B[0m\u001B[1mOutput Shape     \u001B[0m\u001B[1m \u001B[0m┃\u001B[1m \u001B[0m\u001B[1m   Param #\u001B[0m\u001B[1m \u001B[0m┃\u001B[1m \u001B[0m\u001B[1mConnected to     \u001B[0m\u001B[1m \u001B[0m┃\n┡━━━━━━━━━━━━━━━━━━━━━╇━━━━━━━━━━━━━━━━━━━╇━━━━━━━━━━━━╇━━━━━━━━━━━━━━━━━━━┩\n│ input_ids           │ (\u001B[38;5;45mNone\u001B[0m, \u001B[38;5;34m512\u001B[0m)       │          \u001B[38;5;34m0\u001B[0m │ -                 │\n│ (\u001B[38;5;33mInputLayer\u001B[0m)        │                   │            │                   │\n├─────────────────────┼───────────────────┼────────────┼───────────────────┤\n│ attention_masks     │ (\u001B[38;5;45mNone\u001B[0m, \u001B[38;5;34m512\u001B[0m)       │          \u001B[38;5;34m0\u001B[0m │ -                 │\n│ (\u001B[38;5;33mInputLayer\u001B[0m)        │                   │            │                   │\n├─────────────────────┼───────────────────┼────────────┼───────────────────┤\n│ bert_layer_1        │ (\u001B[38;5;45mNone\u001B[0m, \u001B[38;5;34m768\u001B[0m)       │          \u001B[38;5;34m0\u001B[0m │ input_ids[\u001B[38;5;34m0\u001B[0m][\u001B[38;5;34m0\u001B[0m],  │\n│ (\u001B[38;5;33mBertLayer\u001B[0m)         │                   │            │ attention_masks[\u001B[38;5;34m…\u001B[0m │\n├─────────────────────┼───────────────────┼────────────┼───────────────────┤\n│ dropout_1 (\u001B[38;5;33mDropout\u001B[0m) │ (\u001B[38;5;45mNone\u001B[0m, \u001B[38;5;34m768\u001B[0m)       │          \u001B[38;5;34m0\u001B[0m │ bert_layer_1[\u001B[38;5;34m0\u001B[0m][\u001B[38;5;34m…\u001B[0m │\n├─────────────────────┼───────────────────┼────────────┼───────────────────┤\n│ dense_7 (\u001B[38;5;33mDense\u001B[0m)     │ (\u001B[38;5;45mNone\u001B[0m, \u001B[38;5;34m25\u001B[0m)        │     \u001B[38;5;34m19,225\u001B[0m │ dropout_1[\u001B[38;5;34m0\u001B[0m][\u001B[38;5;34m0\u001B[0m]   │\n└─────────────────────┴───────────────────┴────────────┴───────────────────┘\n",
      "text/html": "<pre style=\"white-space:pre;overflow-x:auto;line-height:normal;font-family:Menlo,'DejaVu Sans Mono',consolas,'Courier New',monospace\">┏━━━━━━━━━━━━━━━━━━━━━┳━━━━━━━━━━━━━━━━━━━┳━━━━━━━━━━━━┳━━━━━━━━━━━━━━━━━━━┓\n┃<span style=\"font-weight: bold\"> Layer (type)        </span>┃<span style=\"font-weight: bold\"> Output Shape      </span>┃<span style=\"font-weight: bold\">    Param # </span>┃<span style=\"font-weight: bold\"> Connected to      </span>┃\n┡━━━━━━━━━━━━━━━━━━━━━╇━━━━━━━━━━━━━━━━━━━╇━━━━━━━━━━━━╇━━━━━━━━━━━━━━━━━━━┩\n│ input_ids           │ (<span style=\"color: #00d7ff; text-decoration-color: #00d7ff\">None</span>, <span style=\"color: #00af00; text-decoration-color: #00af00\">512</span>)       │          <span style=\"color: #00af00; text-decoration-color: #00af00\">0</span> │ -                 │\n│ (<span style=\"color: #0087ff; text-decoration-color: #0087ff\">InputLayer</span>)        │                   │            │                   │\n├─────────────────────┼───────────────────┼────────────┼───────────────────┤\n│ attention_masks     │ (<span style=\"color: #00d7ff; text-decoration-color: #00d7ff\">None</span>, <span style=\"color: #00af00; text-decoration-color: #00af00\">512</span>)       │          <span style=\"color: #00af00; text-decoration-color: #00af00\">0</span> │ -                 │\n│ (<span style=\"color: #0087ff; text-decoration-color: #0087ff\">InputLayer</span>)        │                   │            │                   │\n├─────────────────────┼───────────────────┼────────────┼───────────────────┤\n│ bert_layer_1        │ (<span style=\"color: #00d7ff; text-decoration-color: #00d7ff\">None</span>, <span style=\"color: #00af00; text-decoration-color: #00af00\">768</span>)       │          <span style=\"color: #00af00; text-decoration-color: #00af00\">0</span> │ input_ids[<span style=\"color: #00af00; text-decoration-color: #00af00\">0</span>][<span style=\"color: #00af00; text-decoration-color: #00af00\">0</span>],  │\n│ (<span style=\"color: #0087ff; text-decoration-color: #0087ff\">BertLayer</span>)         │                   │            │ attention_masks[<span style=\"color: #00af00; text-decoration-color: #00af00\">…</span> │\n├─────────────────────┼───────────────────┼────────────┼───────────────────┤\n│ dropout_1 (<span style=\"color: #0087ff; text-decoration-color: #0087ff\">Dropout</span>) │ (<span style=\"color: #00d7ff; text-decoration-color: #00d7ff\">None</span>, <span style=\"color: #00af00; text-decoration-color: #00af00\">768</span>)       │          <span style=\"color: #00af00; text-decoration-color: #00af00\">0</span> │ bert_layer_1[<span style=\"color: #00af00; text-decoration-color: #00af00\">0</span>][<span style=\"color: #00af00; text-decoration-color: #00af00\">…</span> │\n├─────────────────────┼───────────────────┼────────────┼───────────────────┤\n│ dense_7 (<span style=\"color: #0087ff; text-decoration-color: #0087ff\">Dense</span>)     │ (<span style=\"color: #00d7ff; text-decoration-color: #00d7ff\">None</span>, <span style=\"color: #00af00; text-decoration-color: #00af00\">25</span>)        │     <span style=\"color: #00af00; text-decoration-color: #00af00\">19,225</span> │ dropout_1[<span style=\"color: #00af00; text-decoration-color: #00af00\">0</span>][<span style=\"color: #00af00; text-decoration-color: #00af00\">0</span>]   │\n└─────────────────────┴───────────────────┴────────────┴───────────────────┘\n</pre>\n"
     },
     "metadata": {},
     "output_type": "display_data"
    },
    {
     "data": {
      "text/plain": "\u001B[1m Total params: \u001B[0m\u001B[38;5;34m19,225\u001B[0m (75.10 KB)\n",
      "text/html": "<pre style=\"white-space:pre;overflow-x:auto;line-height:normal;font-family:Menlo,'DejaVu Sans Mono',consolas,'Courier New',monospace\"><span style=\"font-weight: bold\"> Total params: </span><span style=\"color: #00af00; text-decoration-color: #00af00\">19,225</span> (75.10 KB)\n</pre>\n"
     },
     "metadata": {},
     "output_type": "display_data"
    },
    {
     "data": {
      "text/plain": "\u001B[1m Trainable params: \u001B[0m\u001B[38;5;34m19,225\u001B[0m (75.10 KB)\n",
      "text/html": "<pre style=\"white-space:pre;overflow-x:auto;line-height:normal;font-family:Menlo,'DejaVu Sans Mono',consolas,'Courier New',monospace\"><span style=\"font-weight: bold\"> Trainable params: </span><span style=\"color: #00af00; text-decoration-color: #00af00\">19,225</span> (75.10 KB)\n</pre>\n"
     },
     "metadata": {},
     "output_type": "display_data"
    },
    {
     "data": {
      "text/plain": "\u001B[1m Non-trainable params: \u001B[0m\u001B[38;5;34m0\u001B[0m (0.00 B)\n",
      "text/html": "<pre style=\"white-space:pre;overflow-x:auto;line-height:normal;font-family:Menlo,'DejaVu Sans Mono',consolas,'Courier New',monospace\"><span style=\"font-weight: bold\"> Non-trainable params: </span><span style=\"color: #00af00; text-decoration-color: #00af00\">0</span> (0.00 B)\n</pre>\n"
     },
     "metadata": {},
     "output_type": "display_data"
    }
   ],
   "source": [
    "model_bert.summary()"
   ],
   "metadata": {
    "collapsed": false,
    "ExecuteTime": {
     "end_time": "2024-03-30T20:26:18.072185Z",
     "start_time": "2024-03-30T20:26:18.045900Z"
    }
   },
   "id": "1ff60d6b783d6a9b",
   "execution_count": 189
  },
  {
   "cell_type": "code",
   "outputs": [
    {
     "name": "stdout",
     "output_type": "stream",
     "text": [
      "Epoch 1/3\n",
      "\u001B[1m58/58\u001B[0m \u001B[32m━━━━━━━━━━━━━━━━━━━━\u001B[0m\u001B[37m\u001B[0m \u001B[1m1274s\u001B[0m 22s/step - accuracy: 0.1175 - loss: 0.3394 - val_accuracy: 0.2698 - val_loss: 0.1650\n",
      "Epoch 2/3\n",
      "\u001B[1m58/58\u001B[0m \u001B[32m━━━━━━━━━━━━━━━━━━━━\u001B[0m\u001B[37m\u001B[0m \u001B[1m1286s\u001B[0m 22s/step - accuracy: 0.2291 - loss: 0.1980 - val_accuracy: 0.2806 - val_loss: 0.1607\n",
      "Epoch 3/3\n",
      "\u001B[1m58/58\u001B[0m \u001B[32m━━━━━━━━━━━━━━━━━━━━\u001B[0m\u001B[37m\u001B[0m \u001B[1m1189s\u001B[0m 21s/step - accuracy: 0.2482 - loss: 0.1933 - val_accuracy: 0.2968 - val_loss: 0.1567\n"
     ]
    },
    {
     "data": {
      "text/plain": "<keras.src.callbacks.history.History at 0x373d49ae0>"
     },
     "execution_count": 200,
     "metadata": {},
     "output_type": "execute_result"
    }
   ],
   "source": [
    "model_bert.fit([X_train_encoded, X_train_attention], y_train_10_np, epochs=3, batch_size=64, validation_data=([X_test_encoded, X_test_attention], y_test_10_np))"
   ],
   "metadata": {
    "collapsed": false,
    "ExecuteTime": {
     "end_time": "2024-03-30T21:34:01.142285Z",
     "start_time": "2024-03-30T20:31:32.418529Z"
    }
   },
   "id": "19cc3cba314275a2",
   "execution_count": 200
  },
  {
   "cell_type": "code",
   "outputs": [
    {
     "name": "stdout",
     "output_type": "stream",
     "text": [
      "\u001B[1m18/18\u001B[0m \u001B[32m━━━━━━━━━━━━━━━━━━━━\u001B[0m\u001B[37m\u001B[0m \u001B[1m166s\u001B[0m 9s/step\n"
     ]
    }
   ],
   "source": [
    "y_pred = model_bert.predict([X_test_encoded, X_test_attention])"
   ],
   "metadata": {
    "collapsed": false,
    "ExecuteTime": {
     "end_time": "2024-03-30T21:38:10.747041Z",
     "start_time": "2024-03-30T21:35:25.086458Z"
    }
   },
   "id": "fbbe03dc4fd415d6",
   "execution_count": 201
  },
  {
   "cell_type": "code",
   "outputs": [],
   "source": [
    "y_pred = (y_pred > 0.5).astype(int)"
   ],
   "metadata": {
    "collapsed": false,
    "ExecuteTime": {
     "end_time": "2024-03-30T21:46:01.712929Z",
     "start_time": "2024-03-30T21:46:01.704513Z"
    }
   },
   "id": "e74d560eda2f8380",
   "execution_count": 202
  },
  {
   "cell_type": "code",
   "outputs": [
    {
     "data": {
      "text/plain": "0.02158273381294964"
     },
     "execution_count": 205,
     "metadata": {},
     "output_type": "execute_result"
    }
   ],
   "source": [
    "accuracy_score(y_test_10_np, y_pred)"
   ],
   "metadata": {
    "collapsed": false,
    "ExecuteTime": {
     "end_time": "2024-03-30T21:46:16.547471Z",
     "start_time": "2024-03-30T21:46:16.541910Z"
    }
   },
   "id": "60217e2b459f09bf",
   "execution_count": 205
  },
  {
   "cell_type": "code",
   "outputs": [
    {
     "name": "stdout",
     "output_type": "stream",
     "text": [
      "                 precision    recall  f1-score   support\n",
      "\n",
      "         action       1.00      0.02      0.05        42\n",
      "      adventure       0.00      0.00      0.00        19\n",
      "      biography       0.00      0.00      0.00         9\n",
      "         comedy       0.00      0.00      0.00       162\n",
      "          crime       0.00      0.00      0.00        27\n",
      "          drama       0.00      0.00      0.00       187\n",
      "         family       0.00      0.00      0.00        13\n",
      "        fantasy       0.00      0.00      0.00         9\n",
      "     historical       0.00      0.00      0.00         5\n",
      "         horror       0.00      0.00      0.00        31\n",
      "   martial arts       0.00      0.00      0.00         3\n",
      "        musical       0.00      0.00      0.00        15\n",
      "        mystery       0.00      0.00      0.00        11\n",
      "           noir       0.00      0.00      0.00         9\n",
      "        romance       1.00      0.03      0.05        39\n",
      "       romantic       0.00      0.00      0.00        14\n",
      "         social       0.00      0.00      0.00         6\n",
      "         sports       0.00      0.00      0.00         5\n",
      "            spy       0.00      0.00      0.00         1\n",
      "       suspense       0.00      0.00      0.00         2\n",
      "       thriller       0.00      0.00      0.00        31\n",
      "            war       0.00      0.00      0.00         9\n",
      "        western       0.00      0.00      0.00        15\n",
      "          world       0.00      0.00      0.00         4\n",
      "science fiction       0.00      0.00      0.00        28\n",
      "\n",
      "      micro avg       0.22      0.00      0.01       696\n",
      "      macro avg       0.08      0.00      0.00       696\n",
      "   weighted avg       0.12      0.00      0.01       696\n",
      "    samples avg       0.00      0.00      0.00       696\n"
     ]
    },
    {
     "name": "stderr",
     "output_type": "stream",
     "text": [
      "/Users/alexeyks/PycharmProjects/moviesml/.venv/lib/python3.10/site-packages/sklearn/metrics/_classification.py:1509: UndefinedMetricWarning: Precision is ill-defined and being set to 0.0 in labels with no predicted samples. Use `zero_division` parameter to control this behavior.\n",
      "  _warn_prf(average, modifier, f\"{metric.capitalize()} is\", len(result))\n",
      "/Users/alexeyks/PycharmProjects/moviesml/.venv/lib/python3.10/site-packages/sklearn/metrics/_classification.py:1509: UndefinedMetricWarning: Precision is ill-defined and being set to 0.0 in samples with no predicted labels. Use `zero_division` parameter to control this behavior.\n",
      "  _warn_prf(average, modifier, f\"{metric.capitalize()} is\", len(result))\n",
      "/Users/alexeyks/PycharmProjects/moviesml/.venv/lib/python3.10/site-packages/sklearn/metrics/_classification.py:1509: UndefinedMetricWarning: Recall is ill-defined and being set to 0.0 in samples with no true labels. Use `zero_division` parameter to control this behavior.\n",
      "  _warn_prf(average, modifier, f\"{metric.capitalize()} is\", len(result))\n",
      "/Users/alexeyks/PycharmProjects/moviesml/.venv/lib/python3.10/site-packages/sklearn/metrics/_classification.py:1509: UndefinedMetricWarning: F-score is ill-defined and being set to 0.0 in samples with no true nor predicted labels. Use `zero_division` parameter to control this behavior.\n",
      "  _warn_prf(average, modifier, f\"{metric.capitalize()} is\", len(result))\n"
     ]
    }
   ],
   "source": [
    "print(classification_report(y_test_10, y_pred, target_names=y.columns))"
   ],
   "metadata": {
    "collapsed": false,
    "ExecuteTime": {
     "end_time": "2024-03-30T21:46:24.278692Z",
     "start_time": "2024-03-30T21:46:24.267317Z"
    }
   },
   "id": "49d7362fe3869fc9",
   "execution_count": 207
  },
  {
   "cell_type": "markdown",
   "source": [
    "The BERT model has the worst performance. The reasons might be the same as the ones that lead to poor performance of the third model: wrong architecture, not enough data."
   ],
   "metadata": {
    "collapsed": false
   },
   "id": "6cf754958e6aa207"
  },
  {
   "cell_type": "markdown",
   "source": [
    "## Conclusion\n",
    "This project shows, that in machine learning not everything goes as planned. There are many reasons why something could work wrong or not in the way you wanted to. That is why I will try to do more experiments in the future. Probably later I will come back to this project, in order to try another models and solutions to the stated problem. "
   ],
   "metadata": {
    "collapsed": false
   },
   "id": "6384596abf44af3"
  },
  {
   "cell_type": "code",
   "outputs": [],
   "source": [],
   "metadata": {
    "collapsed": false
   },
   "id": "d18fa3f61742d97d"
  }
 ],
 "metadata": {
  "kernelspec": {
   "display_name": "Python 3",
   "language": "python",
   "name": "python3"
  },
  "language_info": {
   "codemirror_mode": {
    "name": "ipython",
    "version": 2
   },
   "file_extension": ".py",
   "mimetype": "text/x-python",
   "name": "python",
   "nbconvert_exporter": "python",
   "pygments_lexer": "ipython2",
   "version": "2.7.6"
  }
 },
 "nbformat": 4,
 "nbformat_minor": 5
}
